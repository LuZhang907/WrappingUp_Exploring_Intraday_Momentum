{
 "cells": [
  {
   "cell_type": "code",
   "execution_count": 1,
   "metadata": {},
   "outputs": [],
   "source": [
    "import pandas as pd\n",
    "import numpy as np\n",
    "import pandas_ta as ta\n",
    "\n",
    "import matplotlib.pyplot as plt\n",
    "import seaborn as sns\n",
    "\n",
    "from scipy.stats import norm\n",
    "import statsmodels.regression.linear_model as sm\n",
    "\n",
    "import tslearn\n",
    "from tslearn.clustering import TimeSeriesKMeans\n",
    "from tslearn import metrics\n",
    "\n",
    "from tslearn.utils import to_time_series_dataset\n",
    "\n",
    "import warnings\n",
    "warnings.filterwarnings('ignore')"
   ]
  },
  {
   "cell_type": "code",
   "execution_count": 2,
   "metadata": {},
   "outputs": [],
   "source": [
    "# read data\n",
    "df = pd.read_csv(\"/Users/luzhang/Desktop/data/AAPL.csv\")\n",
    "df = pd.DataFrame(df)\n",
    "# drop nas\n",
    "df = df.dropna()"
   ]
  },
  {
   "cell_type": "code",
   "execution_count": 3,
   "metadata": {},
   "outputs": [
    {
     "data": {
      "text/plain": [
       "(1022740, 6)"
      ]
     },
     "execution_count": 3,
     "metadata": {},
     "output_type": "execute_result"
    }
   ],
   "source": [
    "df.shape"
   ]
  },
  {
   "cell_type": "code",
   "execution_count": 4,
   "metadata": {},
   "outputs": [],
   "source": [
    "# data pre-cessing\n",
    "#change sereis to datetime format\n",
    "df['time']=pd.to_datetime(df['time'])\n",
    "df.set_index('time', inplace=True)"
   ]
  },
  {
   "cell_type": "code",
   "execution_count": 5,
   "metadata": {},
   "outputs": [],
   "source": [
    "# Define Drop outlier day function to drop the incomplete transcation days\n",
    "def DropOutlierday(data):\n",
    "    # subset dataframe such that it only contains the complete transcation\n",
    "    totalDay=pd.to_datetime(data.index.date).unique()\n",
    "    completeDay=totalDay[day_keep]\n",
    "\n",
    "    outlierday=totalDay.difference(completeDay)\n",
    "    data['date'] = [d.date() for d in data.index]\n",
    "\n",
    "    outlierday=outlierday.strftime('%Y-%m-%d')\n",
    "    t=pd.DataFrame()\n",
    "    \n",
    "    for i in range(len(outlierday)):\n",
    "        temp=pd.DataFrame(data['date'].loc[outlierday[i]])\n",
    "        t=t.append(temp)\n",
    "    \n",
    "    data = data.drop(t.index) # drop the outlier day\n",
    "    data = data.drop('date',1) # delete columne 'date'\n",
    "    return data"
   ]
  },
  {
   "cell_type": "markdown",
   "metadata": {},
   "source": [
    "## returns calculation"
   ]
  },
  {
   "cell_type": "markdown",
   "metadata": {},
   "source": [
    "##### R_LH0 and R_LH "
   ]
  },
  {
   "cell_type": "code",
   "execution_count": 6,
   "metadata": {},
   "outputs": [],
   "source": [
    "#subset df to calculate LH and LH0 \n",
    "df_LH_LH0 = df[((df.index.hour == 15) & (df.index.minute == 30))|\n",
    "        ((df.index.hour == 16) & (df.index.minute == 0))]\n",
    "#df_LH_LH0"
   ]
  },
  {
   "cell_type": "code",
   "execution_count": 7,
   "metadata": {},
   "outputs": [
    {
     "data": {
      "text/plain": [
       "2604"
      ]
     },
     "execution_count": 7,
     "metadata": {},
     "output_type": "execute_result"
    }
   ],
   "source": [
    "# find the complete transaction\n",
    "rows_eachday = df_LH_LH0.groupby(df_LH_LH0.index.date).size().values\n",
    "day_keep = [True if x==2 else False for x in rows_eachday]\n",
    "sum(day_keep)"
   ]
  },
  {
   "cell_type": "code",
   "execution_count": 8,
   "metadata": {
    "scrolled": true
   },
   "outputs": [],
   "source": [
    "df_LH_LH0 = DropOutlierday(df_LH_LH0)\n",
    "df_LH_LH0['returns'] = df_LH_LH0['close'].pct_change()"
   ]
  },
  {
   "cell_type": "code",
   "execution_count": 9,
   "metadata": {},
   "outputs": [],
   "source": [
    "df_LH = df_LH_LH0[((df_LH_LH0.index.hour == 16) & (df_LH_LH0.index.minute == 0))]\n",
    "df_LH = df_LH.drop(['open','high','low','close','volume'],1)\n",
    "df_LH = df_LH.rename(columns={\"returns\":\"R_LH\"})"
   ]
  },
  {
   "cell_type": "code",
   "execution_count": 10,
   "metadata": {},
   "outputs": [],
   "source": [
    "df_LH0=df_LH.shift()\n",
    "df_LH0=df_LH0.rename(columns={'R_LH':'R_LH0'})"
   ]
  },
  {
   "cell_type": "markdown",
   "metadata": {},
   "source": [
    "##### R_ROD"
   ]
  },
  {
   "cell_type": "code",
   "execution_count": 11,
   "metadata": {},
   "outputs": [],
   "source": [
    "#subset df to calculate ROD\n",
    "df_ROD = df[((df.index.hour == 15) & (df.index.minute == 30))|\n",
    "        ((df.index.hour == 16) & (df.index.minute == 0))]\n",
    "#df_ROD"
   ]
  },
  {
   "cell_type": "code",
   "execution_count": 12,
   "metadata": {},
   "outputs": [
    {
     "data": {
      "text/plain": [
       "2604"
      ]
     },
     "execution_count": 12,
     "metadata": {},
     "output_type": "execute_result"
    }
   ],
   "source": [
    "# find the complete transaction\n",
    "rows_eachday = df_ROD.groupby(df_ROD.index.date).size().values\n",
    "day_keep = [True if x==2 else False for x in rows_eachday]\n",
    "sum(day_keep)"
   ]
  },
  {
   "cell_type": "code",
   "execution_count": 13,
   "metadata": {
    "scrolled": true
   },
   "outputs": [],
   "source": [
    "df_ROD  = DropOutlierday(df_ROD)\n",
    "df_ROD['returns'] = df_ROD['close'].pct_change()"
   ]
  },
  {
   "cell_type": "code",
   "execution_count": 14,
   "metadata": {
    "scrolled": false
   },
   "outputs": [],
   "source": [
    "df_ROD=df_ROD[((df_ROD.index.hour == 15) & (df_ROD.index.minute == 30))]\n",
    "df_ROD=df_ROD.drop(['open','high','low','close','volume'],1)\n",
    "df_ROD=df_ROD.rename(columns={'returns':'R_ROD'})"
   ]
  },
  {
   "cell_type": "markdown",
   "metadata": {},
   "source": [
    "### R_ON"
   ]
  },
  {
   "cell_type": "code",
   "execution_count": 15,
   "metadata": {},
   "outputs": [],
   "source": [
    "df_ON=df[((df.index.hour == 9) & (df.index.minute == 31))|\n",
    "        ((df.index.hour == 16) & (df.index.minute == 0))]\n",
    "# Larry: 9:31 is the data for the first minute which is better than using the data for 9:29~9:30"
   ]
  },
  {
   "cell_type": "code",
   "execution_count": 16,
   "metadata": {},
   "outputs": [
    {
     "data": {
      "text/plain": [
       "2609"
      ]
     },
     "execution_count": 16,
     "metadata": {},
     "output_type": "execute_result"
    }
   ],
   "source": [
    "rows_eachday = df_ON.groupby(df_ON.index.date).size().values\n",
    "day_keep = [True if x==2 else False for x in rows_eachday]\n",
    "sum(day_keep)"
   ]
  },
  {
   "cell_type": "code",
   "execution_count": 17,
   "metadata": {
    "scrolled": true
   },
   "outputs": [],
   "source": [
    "df_ON  = DropOutlierday(df_ON)\n",
    "df_ON['close_pre'] = df_ON['close'].shift()"
   ]
  },
  {
   "cell_type": "code",
   "execution_count": 18,
   "metadata": {},
   "outputs": [],
   "source": [
    "df_ON = df_ON[((df_ON.index.hour == 9) & (df_ON.index.minute == 31))]"
   ]
  },
  {
   "cell_type": "code",
   "execution_count": 19,
   "metadata": {},
   "outputs": [],
   "source": [
    "df_ON['R_ON'] = df_ON['open']/df_ON['close_pre']-1;\n",
    "df_ON = df_ON.drop([\"open\",\"high\",\"low\",\"close\",\"volume\",\"close_pre\"],1)"
   ]
  },
  {
   "cell_type": "markdown",
   "metadata": {},
   "source": [
    "### R_FH"
   ]
  },
  {
   "cell_type": "code",
   "execution_count": 20,
   "metadata": {},
   "outputs": [],
   "source": [
    "df_FH = df[((df.index.hour == 9) & (df.index.minute == 31))|\n",
    "        ((df.index.hour == 10) & (df.index.minute == 0))]\n",
    "# Larry: use 9:31 data\n",
    "#df_FH"
   ]
  },
  {
   "cell_type": "code",
   "execution_count": 21,
   "metadata": {},
   "outputs": [
    {
     "data": {
      "text/plain": [
       "2622"
      ]
     },
     "execution_count": 21,
     "metadata": {},
     "output_type": "execute_result"
    }
   ],
   "source": [
    "rows_eachday = df_FH.groupby(df_FH.index.date).size().values\n",
    "day_keep = [True if x==2 else False for x in rows_eachday]\n",
    "sum(day_keep)"
   ]
  },
  {
   "cell_type": "code",
   "execution_count": 22,
   "metadata": {},
   "outputs": [],
   "source": [
    "df_FH = DropOutlierday(df_FH)"
   ]
  },
  {
   "cell_type": "code",
   "execution_count": 23,
   "metadata": {},
   "outputs": [],
   "source": [
    "df_FH['open_pre30']=df_FH['open'].shift()"
   ]
  },
  {
   "cell_type": "code",
   "execution_count": 24,
   "metadata": {},
   "outputs": [],
   "source": [
    "df_FH=df_FH[(df_FH.index.hour==10)&(df_FH.index.minute==0)]"
   ]
  },
  {
   "cell_type": "code",
   "execution_count": 25,
   "metadata": {},
   "outputs": [],
   "source": [
    "df_FH['R_FH'] = df_FH['open']/df_FH['open_pre30']-1\n",
    "df_FH = df_FH.drop([\"open\",\"high\",\"low\",\"close\",\"open_pre30\",'volume'],1)"
   ]
  },
  {
   "cell_type": "markdown",
   "metadata": {},
   "source": [
    "### R_ONFH"
   ]
  },
  {
   "cell_type": "code",
   "execution_count": 26,
   "metadata": {
    "scrolled": true
   },
   "outputs": [],
   "source": [
    "df_ONFH = df[((df.index.hour==16)&(df.index.minute==0))|\n",
    "            ((df.index.hour==10)&(df.index.minute==0))]"
   ]
  },
  {
   "cell_type": "code",
   "execution_count": 27,
   "metadata": {},
   "outputs": [
    {
     "data": {
      "text/plain": [
       "2609"
      ]
     },
     "execution_count": 27,
     "metadata": {},
     "output_type": "execute_result"
    }
   ],
   "source": [
    "rows_eachday = df_ONFH.groupby(df_ONFH.index.date).size().values\n",
    "day_keep = [True if x==2 else False for x in rows_eachday]\n",
    "sum(day_keep)"
   ]
  },
  {
   "cell_type": "code",
   "execution_count": 28,
   "metadata": {},
   "outputs": [],
   "source": [
    "df_ONFH = DropOutlierday(df_ONFH)"
   ]
  },
  {
   "cell_type": "code",
   "execution_count": 29,
   "metadata": {},
   "outputs": [],
   "source": [
    "df_ONFH['close_preday']=df_ONFH['close'].shift()"
   ]
  },
  {
   "cell_type": "code",
   "execution_count": 30,
   "metadata": {
    "scrolled": true
   },
   "outputs": [],
   "source": [
    "df_ONFH=df_ONFH[((df_ONFH.index.hour==10)&(df_ONFH.index.minute==0))]\n",
    "df_ONFH['R_ONFH']=df_ONFH['open']/df_ONFH['close_preday']-1\n",
    "df_ONFH = df_ONFH.drop(['open','high','low','close','volume','close_preday'],1)"
   ]
  },
  {
   "cell_type": "markdown",
   "metadata": {},
   "source": [
    "### R_M"
   ]
  },
  {
   "cell_type": "code",
   "execution_count": 31,
   "metadata": {},
   "outputs": [],
   "source": [
    "df_M = df[((df.index.hour==10)&(df.index.minute==0)) |\n",
    "         ((df.index.hour==15)&(df.index.minute==0))]"
   ]
  },
  {
   "cell_type": "code",
   "execution_count": 32,
   "metadata": {},
   "outputs": [
    {
     "data": {
      "text/plain": [
       "2608"
      ]
     },
     "execution_count": 32,
     "metadata": {},
     "output_type": "execute_result"
    }
   ],
   "source": [
    "rows_eachday = df_M.groupby(df_M.index.date).size().values\n",
    "day_keep = [True if x==2 else False for x in rows_eachday]\n",
    "sum(day_keep)"
   ]
  },
  {
   "cell_type": "code",
   "execution_count": 33,
   "metadata": {},
   "outputs": [],
   "source": [
    "df_M = DropOutlierday(df_M)"
   ]
  },
  {
   "cell_type": "code",
   "execution_count": 34,
   "metadata": {
    "scrolled": true
   },
   "outputs": [],
   "source": [
    "df_M['open_past30'] = df_M['open'].shift()\n",
    "df_M = df_M[((df_M.index.hour==15)&(df_M.index.minute==0))]\n",
    "df_M['R_M'] = df_M['close']/df_M['open_past30']-1\n",
    "df_M = df_M.drop(['open','high','low','close','open_past30','volume'],1)\n",
    "#df_M"
   ]
  },
  {
   "cell_type": "markdown",
   "metadata": {},
   "source": [
    "### R_SLH"
   ]
  },
  {
   "cell_type": "code",
   "execution_count": 35,
   "metadata": {},
   "outputs": [],
   "source": [
    "df_SLH = df[((df.index.hour==15)&(df.index.minute==30)) |\n",
    "           ((df.index.hour==15)&(df.index.minute==0))]"
   ]
  },
  {
   "cell_type": "code",
   "execution_count": 36,
   "metadata": {},
   "outputs": [
    {
     "data": {
      "text/plain": [
       "2602"
      ]
     },
     "execution_count": 36,
     "metadata": {},
     "output_type": "execute_result"
    }
   ],
   "source": [
    "rows_eachday = df_SLH.groupby(df_SLH.index.date).size().values\n",
    "day_keep = [True if x==2 else False for x in rows_eachday]\n",
    "sum(day_keep)"
   ]
  },
  {
   "cell_type": "code",
   "execution_count": 37,
   "metadata": {
    "scrolled": true
   },
   "outputs": [],
   "source": [
    "df_SLH = DropOutlierday(df_SLH)"
   ]
  },
  {
   "cell_type": "code",
   "execution_count": 38,
   "metadata": {},
   "outputs": [],
   "source": [
    "df_SLH['close_pre60'] = df_SLH['close'].shift()\n",
    "df_SLH = df_SLH[((df_SLH.index.hour==15)&(df_SLH.index.minute==30))]\n",
    "df_SLH['R_SLH'] = df_SLH['close']/df_SLH['close_pre60']-1\n",
    "df_SLH = df_SLH.drop(['open','high','low','close','volume','close_pre60'],1)"
   ]
  },
  {
   "cell_type": "code",
   "execution_count": 39,
   "metadata": {},
   "outputs": [],
   "source": [
    "# keep the date and ignore the time\n",
    "df_LH['new_date'] = [d.date() for d in df_LH.index]\n",
    "df_LH0['new_date'] = [d.date() for d in df_LH0.index]\n",
    "df_ROD['new_date'] = [d.date() for d in df_ROD.index]\n",
    "df_ON['new_date'] = [d.date() for d in df_ON.index]\n",
    "df_FH['new_date'] = [d.date() for d in df_FH.index]\n",
    "df_ONFH['new_date'] = [d.date() for d in df_ONFH.index]\n",
    "df_M['new_date'] = [d.date() for d in df_M.index]\n",
    "df_SLH['new_date'] = [d.date() for d in df_SLH.index]"
   ]
  },
  {
   "cell_type": "code",
   "execution_count": 40,
   "metadata": {},
   "outputs": [],
   "source": [
    "from functools import reduce"
   ]
  },
  {
   "cell_type": "code",
   "execution_count": 123,
   "metadata": {},
   "outputs": [],
   "source": [
    "# merge by same date\n",
    "data_frames=[df_LH, df_LH0, df_ROD, df_ON, df_FH, df_ONFH, df_M, df_SLH]\n",
    "df_merged = reduce(lambda  left,right: pd.merge(left,right,on=['new_date'],\n",
    "                                            how='inner'), data_frames)"
   ]
  },
  {
   "cell_type": "code",
   "execution_count": 124,
   "metadata": {},
   "outputs": [],
   "source": [
    "df_merged=df_merged.rename(columns={'new_date':'datetime'})"
   ]
  },
  {
   "cell_type": "code",
   "execution_count": 125,
   "metadata": {
    "scrolled": true
   },
   "outputs": [
    {
     "data": {
      "text/html": [
       "<div>\n",
       "<style scoped>\n",
       "    .dataframe tbody tr th:only-of-type {\n",
       "        vertical-align: middle;\n",
       "    }\n",
       "\n",
       "    .dataframe tbody tr th {\n",
       "        vertical-align: top;\n",
       "    }\n",
       "\n",
       "    .dataframe thead th {\n",
       "        text-align: right;\n",
       "    }\n",
       "</style>\n",
       "<table border=\"1\" class=\"dataframe\">\n",
       "  <thead>\n",
       "    <tr style=\"text-align: right;\">\n",
       "      <th></th>\n",
       "      <th>R_LH</th>\n",
       "      <th>datetime</th>\n",
       "      <th>R_LH0</th>\n",
       "      <th>R_ROD</th>\n",
       "      <th>R_ON</th>\n",
       "      <th>R_FH</th>\n",
       "      <th>R_ONFH</th>\n",
       "      <th>R_M</th>\n",
       "      <th>R_SLH</th>\n",
       "    </tr>\n",
       "  </thead>\n",
       "  <tbody>\n",
       "    <tr>\n",
       "      <th>0</th>\n",
       "      <td>0.003707</td>\n",
       "      <td>2008-01-02</td>\n",
       "      <td>NaN</td>\n",
       "      <td>NaN</td>\n",
       "      <td>NaN</td>\n",
       "      <td>0.003512</td>\n",
       "      <td>NaN</td>\n",
       "      <td>-0.029400</td>\n",
       "      <td>0.000464</td>\n",
       "    </tr>\n",
       "    <tr>\n",
       "      <th>1</th>\n",
       "      <td>0.005210</td>\n",
       "      <td>2008-01-03</td>\n",
       "      <td>0.003707</td>\n",
       "      <td>-0.005592</td>\n",
       "      <td>0.002668</td>\n",
       "      <td>-0.004042</td>\n",
       "      <td>-0.001385</td>\n",
       "      <td>0.004367</td>\n",
       "      <td>-0.008542</td>\n",
       "    </tr>\n",
       "    <tr>\n",
       "      <th>2</th>\n",
       "      <td>-0.015808</td>\n",
       "      <td>2008-01-04</td>\n",
       "      <td>0.005210</td>\n",
       "      <td>-0.061740</td>\n",
       "      <td>-0.017501</td>\n",
       "      <td>-0.000836</td>\n",
       "      <td>-0.018322</td>\n",
       "      <td>-0.036909</td>\n",
       "      <td>-0.007600</td>\n",
       "    </tr>\n",
       "    <tr>\n",
       "      <th>3</th>\n",
       "      <td>0.016253</td>\n",
       "      <td>2008-01-07</td>\n",
       "      <td>-0.015808</td>\n",
       "      <td>-0.028845</td>\n",
       "      <td>0.007058</td>\n",
       "      <td>0.009161</td>\n",
       "      <td>0.016284</td>\n",
       "      <td>-0.039374</td>\n",
       "      <td>-0.005237</td>\n",
       "    </tr>\n",
       "    <tr>\n",
       "      <th>4</th>\n",
       "      <td>-0.019919</td>\n",
       "      <td>2008-01-08</td>\n",
       "      <td>0.016253</td>\n",
       "      <td>-0.016162</td>\n",
       "      <td>0.013909</td>\n",
       "      <td>-0.005721</td>\n",
       "      <td>0.008109</td>\n",
       "      <td>-0.003631</td>\n",
       "      <td>-0.020519</td>\n",
       "    </tr>\n",
       "    <tr>\n",
       "      <th>...</th>\n",
       "      <td>...</td>\n",
       "      <td>...</td>\n",
       "      <td>...</td>\n",
       "      <td>...</td>\n",
       "      <td>...</td>\n",
       "      <td>...</td>\n",
       "      <td>...</td>\n",
       "      <td>...</td>\n",
       "      <td>...</td>\n",
       "    </tr>\n",
       "    <tr>\n",
       "      <th>2597</th>\n",
       "      <td>-0.000796</td>\n",
       "      <td>2018-05-24</td>\n",
       "      <td>0.002287</td>\n",
       "      <td>-0.000478</td>\n",
       "      <td>0.001698</td>\n",
       "      <td>-0.008688</td>\n",
       "      <td>-0.007005</td>\n",
       "      <td>0.005584</td>\n",
       "      <td>0.000983</td>\n",
       "    </tr>\n",
       "    <tr>\n",
       "      <th>2598</th>\n",
       "      <td>-0.000689</td>\n",
       "      <td>2018-05-25</td>\n",
       "      <td>-0.000796</td>\n",
       "      <td>0.002657</td>\n",
       "      <td>0.000106</td>\n",
       "      <td>0.001434</td>\n",
       "      <td>0.001541</td>\n",
       "      <td>0.000633</td>\n",
       "      <td>0.000481</td>\n",
       "    </tr>\n",
       "    <tr>\n",
       "      <th>2599</th>\n",
       "      <td>0.003174</td>\n",
       "      <td>2018-05-29</td>\n",
       "      <td>-0.000689</td>\n",
       "      <td>-0.006970</td>\n",
       "      <td>-0.005197</td>\n",
       "      <td>0.003412</td>\n",
       "      <td>-0.001803</td>\n",
       "      <td>-0.005844</td>\n",
       "      <td>0.000671</td>\n",
       "    </tr>\n",
       "    <tr>\n",
       "      <th>2600</th>\n",
       "      <td>0.001362</td>\n",
       "      <td>2018-05-30</td>\n",
       "      <td>0.003174</td>\n",
       "      <td>-0.003274</td>\n",
       "      <td>-0.001171</td>\n",
       "      <td>-0.002718</td>\n",
       "      <td>-0.003886</td>\n",
       "      <td>0.002191</td>\n",
       "      <td>-0.001573</td>\n",
       "    </tr>\n",
       "    <tr>\n",
       "      <th>2601</th>\n",
       "      <td>-0.001976</td>\n",
       "      <td>2018-05-31</td>\n",
       "      <td>0.001362</td>\n",
       "      <td>-0.001333</td>\n",
       "      <td>-0.001333</td>\n",
       "      <td>0.001549</td>\n",
       "      <td>0.000213</td>\n",
       "      <td>-0.001440</td>\n",
       "      <td>-0.000107</td>\n",
       "    </tr>\n",
       "  </tbody>\n",
       "</table>\n",
       "<p>2602 rows × 9 columns</p>\n",
       "</div>"
      ],
      "text/plain": [
       "          R_LH    datetime     R_LH0     R_ROD      R_ON      R_FH    R_ONFH  \\\n",
       "0     0.003707  2008-01-02       NaN       NaN       NaN  0.003512       NaN   \n",
       "1     0.005210  2008-01-03  0.003707 -0.005592  0.002668 -0.004042 -0.001385   \n",
       "2    -0.015808  2008-01-04  0.005210 -0.061740 -0.017501 -0.000836 -0.018322   \n",
       "3     0.016253  2008-01-07 -0.015808 -0.028845  0.007058  0.009161  0.016284   \n",
       "4    -0.019919  2008-01-08  0.016253 -0.016162  0.013909 -0.005721  0.008109   \n",
       "...        ...         ...       ...       ...       ...       ...       ...   \n",
       "2597 -0.000796  2018-05-24  0.002287 -0.000478  0.001698 -0.008688 -0.007005   \n",
       "2598 -0.000689  2018-05-25 -0.000796  0.002657  0.000106  0.001434  0.001541   \n",
       "2599  0.003174  2018-05-29 -0.000689 -0.006970 -0.005197  0.003412 -0.001803   \n",
       "2600  0.001362  2018-05-30  0.003174 -0.003274 -0.001171 -0.002718 -0.003886   \n",
       "2601 -0.001976  2018-05-31  0.001362 -0.001333 -0.001333  0.001549  0.000213   \n",
       "\n",
       "           R_M     R_SLH  \n",
       "0    -0.029400  0.000464  \n",
       "1     0.004367 -0.008542  \n",
       "2    -0.036909 -0.007600  \n",
       "3    -0.039374 -0.005237  \n",
       "4    -0.003631 -0.020519  \n",
       "...        ...       ...  \n",
       "2597  0.005584  0.000983  \n",
       "2598  0.000633  0.000481  \n",
       "2599 -0.005844  0.000671  \n",
       "2600  0.002191 -0.001573  \n",
       "2601 -0.001440 -0.000107  \n",
       "\n",
       "[2602 rows x 9 columns]"
      ]
     },
     "execution_count": 125,
     "metadata": {},
     "output_type": "execute_result"
    }
   ],
   "source": [
    "df_merged"
   ]
  },
  {
   "cell_type": "code",
   "execution_count": 126,
   "metadata": {},
   "outputs": [],
   "source": [
    "df_merged=df_merged.set_index('datetime')"
   ]
  },
  {
   "cell_type": "code",
   "execution_count": 127,
   "metadata": {
    "scrolled": true
   },
   "outputs": [],
   "source": [
    "df_merged = df_merged.dropna()"
   ]
  },
  {
   "cell_type": "code",
   "execution_count": 46,
   "metadata": {},
   "outputs": [],
   "source": [
    "df_merged.to_csv(\"/Users/luzhang/Documents/GitHub/WrappingUp_Exploring_Intraday_Momentum_2rd_try/Data/AMZN_Returns_updates.csv\", index=True)"
   ]
  },
  {
   "cell_type": "markdown",
   "metadata": {},
   "source": [
    "## Market regime label generating"
   ]
  },
  {
   "cell_type": "code",
   "execution_count": 47,
   "metadata": {
    "scrolled": true
   },
   "outputs": [
    {
     "data": {
      "text/html": [
       "<div>\n",
       "<style scoped>\n",
       "    .dataframe tbody tr th:only-of-type {\n",
       "        vertical-align: middle;\n",
       "    }\n",
       "\n",
       "    .dataframe tbody tr th {\n",
       "        vertical-align: top;\n",
       "    }\n",
       "\n",
       "    .dataframe thead th {\n",
       "        text-align: right;\n",
       "    }\n",
       "</style>\n",
       "<table border=\"1\" class=\"dataframe\">\n",
       "  <thead>\n",
       "    <tr style=\"text-align: right;\">\n",
       "      <th></th>\n",
       "      <th>open</th>\n",
       "      <th>high</th>\n",
       "      <th>low</th>\n",
       "      <th>close</th>\n",
       "      <th>volume</th>\n",
       "    </tr>\n",
       "    <tr>\n",
       "      <th>time</th>\n",
       "      <th></th>\n",
       "      <th></th>\n",
       "      <th></th>\n",
       "      <th></th>\n",
       "      <th></th>\n",
       "    </tr>\n",
       "  </thead>\n",
       "  <tbody>\n",
       "    <tr>\n",
       "      <th>2008-01-02 09:30:00</th>\n",
       "      <td>199.4600</td>\n",
       "      <td>199.5000</td>\n",
       "      <td>199.2200</td>\n",
       "      <td>199.3500</td>\n",
       "      <td>17899</td>\n",
       "    </tr>\n",
       "    <tr>\n",
       "      <th>2008-01-02 15:30:00</th>\n",
       "      <td>194.4500</td>\n",
       "      <td>194.5500</td>\n",
       "      <td>194.2100</td>\n",
       "      <td>194.2100</td>\n",
       "      <td>94326</td>\n",
       "    </tr>\n",
       "    <tr>\n",
       "      <th>2008-01-03 09:30:00</th>\n",
       "      <td>195.2800</td>\n",
       "      <td>195.4300</td>\n",
       "      <td>195.1400</td>\n",
       "      <td>195.4300</td>\n",
       "      <td>5472</td>\n",
       "    </tr>\n",
       "    <tr>\n",
       "      <th>2008-01-03 15:30:00</th>\n",
       "      <td>193.7200</td>\n",
       "      <td>193.8400</td>\n",
       "      <td>193.5600</td>\n",
       "      <td>193.8400</td>\n",
       "      <td>156828</td>\n",
       "    </tr>\n",
       "    <tr>\n",
       "      <th>2008-01-04 09:30:00</th>\n",
       "      <td>191.4400</td>\n",
       "      <td>191.4700</td>\n",
       "      <td>191.2000</td>\n",
       "      <td>191.4700</td>\n",
       "      <td>11809</td>\n",
       "    </tr>\n",
       "    <tr>\n",
       "      <th>...</th>\n",
       "      <td>...</td>\n",
       "      <td>...</td>\n",
       "      <td>...</td>\n",
       "      <td>...</td>\n",
       "      <td>...</td>\n",
       "    </tr>\n",
       "    <tr>\n",
       "      <th>2018-05-29 15:30:00</th>\n",
       "      <td>187.1156</td>\n",
       "      <td>187.2700</td>\n",
       "      <td>187.0600</td>\n",
       "      <td>187.2656</td>\n",
       "      <td>40090</td>\n",
       "    </tr>\n",
       "    <tr>\n",
       "      <th>2018-05-30 09:30:00</th>\n",
       "      <td>187.7100</td>\n",
       "      <td>187.7300</td>\n",
       "      <td>187.5100</td>\n",
       "      <td>187.6200</td>\n",
       "      <td>3560</td>\n",
       "    </tr>\n",
       "    <tr>\n",
       "      <th>2018-05-30 15:30:00</th>\n",
       "      <td>187.3300</td>\n",
       "      <td>187.3500</td>\n",
       "      <td>187.2300</td>\n",
       "      <td>187.2450</td>\n",
       "      <td>33304</td>\n",
       "    </tr>\n",
       "    <tr>\n",
       "      <th>2018-05-31 09:30:00</th>\n",
       "      <td>187.3800</td>\n",
       "      <td>187.3800</td>\n",
       "      <td>187.2300</td>\n",
       "      <td>187.2400</td>\n",
       "      <td>1458</td>\n",
       "    </tr>\n",
       "    <tr>\n",
       "      <th>2018-05-31 15:30:00</th>\n",
       "      <td>187.2645</td>\n",
       "      <td>187.2645</td>\n",
       "      <td>187.2001</td>\n",
       "      <td>187.2500</td>\n",
       "      <td>14657</td>\n",
       "    </tr>\n",
       "  </tbody>\n",
       "</table>\n",
       "<p>5207 rows × 5 columns</p>\n",
       "</div>"
      ],
      "text/plain": [
       "                         open      high       low     close  volume\n",
       "time                                                               \n",
       "2008-01-02 09:30:00  199.4600  199.5000  199.2200  199.3500   17899\n",
       "2008-01-02 15:30:00  194.4500  194.5500  194.2100  194.2100   94326\n",
       "2008-01-03 09:30:00  195.2800  195.4300  195.1400  195.4300    5472\n",
       "2008-01-03 15:30:00  193.7200  193.8400  193.5600  193.8400  156828\n",
       "2008-01-04 09:30:00  191.4400  191.4700  191.2000  191.4700   11809\n",
       "...                       ...       ...       ...       ...     ...\n",
       "2018-05-29 15:30:00  187.1156  187.2700  187.0600  187.2656   40090\n",
       "2018-05-30 09:30:00  187.7100  187.7300  187.5100  187.6200    3560\n",
       "2018-05-30 15:30:00  187.3300  187.3500  187.2300  187.2450   33304\n",
       "2018-05-31 09:30:00  187.3800  187.3800  187.2300  187.2400    1458\n",
       "2018-05-31 15:30:00  187.2645  187.2645  187.2001  187.2500   14657\n",
       "\n",
       "[5207 rows x 5 columns]"
      ]
     },
     "execution_count": 47,
     "metadata": {},
     "output_type": "execute_result"
    }
   ],
   "source": [
    "day_ROD = df[((df.index.hour == 9) & (df.index.minute == 30))|\n",
    "        ((df.index.hour == 15) & (df.index.minute == 30))]\n",
    "day_ROD"
   ]
  },
  {
   "cell_type": "code",
   "execution_count": 48,
   "metadata": {},
   "outputs": [
    {
     "data": {
      "text/plain": [
       "2585"
      ]
     },
     "execution_count": 48,
     "metadata": {},
     "output_type": "execute_result"
    }
   ],
   "source": [
    "# find the complete transaction between 9:30-15:30 \n",
    "rows_eachday = day_ROD.groupby(day_ROD.index.date).size().values\n",
    "day_keep = [True if x==2 else False for x in rows_eachday]\n",
    "sum(day_keep)"
   ]
  },
  {
   "cell_type": "code",
   "execution_count": 49,
   "metadata": {},
   "outputs": [],
   "source": [
    "day_ROD = DropOutlierday(day_ROD)"
   ]
  },
  {
   "cell_type": "code",
   "execution_count": 50,
   "metadata": {},
   "outputs": [
    {
     "data": {
      "text/plain": [
       "DatetimeIndex(['2008-01-02', '2008-01-03', '2008-01-04', '2008-01-07',\n",
       "               '2008-01-08', '2008-01-09', '2008-01-10', '2008-01-11',\n",
       "               '2008-01-14', '2008-01-15',\n",
       "               ...\n",
       "               '2018-05-15', '2018-05-16', '2018-05-17', '2018-05-18',\n",
       "               '2018-05-21', '2018-05-22', '2018-05-24', '2018-05-25',\n",
       "               '2018-05-30', '2018-05-31'],\n",
       "              dtype='datetime64[ns]', length=2585, freq=None)"
      ]
     },
     "execution_count": 50,
     "metadata": {},
     "output_type": "execute_result"
    }
   ],
   "source": [
    "# find the unique date on df_LH0\n",
    "unidate = pd.to_datetime(day_ROD.index.date).unique()\n",
    "unidate"
   ]
  },
  {
   "cell_type": "code",
   "execution_count": 51,
   "metadata": {},
   "outputs": [],
   "source": [
    "# set up the time between 9:30 and 15:30\n",
    "T_1530 = '15:30:00'\n",
    "T_930 = '9:30:00'\n",
    "T_1530 = pd.to_timedelta(T_1530)\n",
    "T_930 = pd.to_timedelta(T_930)\n",
    "# prepare the start and end point \n",
    "date1530 = unidate+T_1530\n",
    "date930 = unidate+T_930"
   ]
  },
  {
   "cell_type": "code",
   "execution_count": 52,
   "metadata": {},
   "outputs": [],
   "source": [
    "# calculate log-return (ln(p_t)-ln(p_{t-1}))\n",
    "log_return = list()\n",
    "for i in range(len(unidate)-1):\n",
    "    temp_df = df[date930[i]:date1530[i]]['close']\n",
    "    if len(temp_df)==361:\n",
    "        temp_df_shift = df[date930[i]:date1530[i]]['close'].shift(1)\n",
    "        temp = np.log(temp_df)- np.log(temp_df_shift)\n",
    "        temp = temp.rename(str(unidate[i]))\n",
    "        log_return.append(temp)\n",
    "    else:\n",
    "        i = i+1"
   ]
  },
  {
   "cell_type": "code",
   "execution_count": 53,
   "metadata": {},
   "outputs": [],
   "source": [
    "# convert log_return list to the dataframe \n",
    "Log_Return = log_return[0]\n",
    "Log_Return = pd.DataFrame(Log_Return)\n",
    "Log_Return.reset_index('time',drop = True,inplace=True)\n",
    "Log_Return.columns = Log_Return.columns.str.replace('00:00:00','')\n",
    "\n",
    "for i in np.arange(1,len(log_return)):\n",
    "    temp = log_return[i]\n",
    "    temp = pd.DataFrame(temp)\n",
    "    temp.reset_index('time',drop = True,inplace=True)\n",
    "    temp.columns = temp.columns.str.replace('00:00:00','')\n",
    "    Log_Return = Log_Return.join(temp)"
   ]
  },
  {
   "cell_type": "code",
   "execution_count": 55,
   "metadata": {
    "scrolled": false
   },
   "outputs": [
    {
     "data": {
      "text/html": [
       "<div>\n",
       "<style scoped>\n",
       "    .dataframe tbody tr th:only-of-type {\n",
       "        vertical-align: middle;\n",
       "    }\n",
       "\n",
       "    .dataframe tbody tr th {\n",
       "        vertical-align: top;\n",
       "    }\n",
       "\n",
       "    .dataframe thead th {\n",
       "        text-align: right;\n",
       "    }\n",
       "</style>\n",
       "<table border=\"1\" class=\"dataframe\">\n",
       "  <thead>\n",
       "    <tr style=\"text-align: right;\">\n",
       "      <th></th>\n",
       "      <th>2008-01-02</th>\n",
       "      <th>2008-01-03</th>\n",
       "      <th>2008-01-04</th>\n",
       "      <th>2008-01-07</th>\n",
       "      <th>2008-01-08</th>\n",
       "      <th>2008-01-09</th>\n",
       "      <th>2008-01-10</th>\n",
       "      <th>2008-01-11</th>\n",
       "      <th>2008-01-14</th>\n",
       "      <th>2008-01-15</th>\n",
       "      <th>...</th>\n",
       "      <th>2018-05-14</th>\n",
       "      <th>2018-05-15</th>\n",
       "      <th>2018-05-16</th>\n",
       "      <th>2018-05-17</th>\n",
       "      <th>2018-05-18</th>\n",
       "      <th>2018-05-21</th>\n",
       "      <th>2018-05-22</th>\n",
       "      <th>2018-05-24</th>\n",
       "      <th>2018-05-25</th>\n",
       "      <th>2018-05-30</th>\n",
       "    </tr>\n",
       "  </thead>\n",
       "  <tbody>\n",
       "    <tr>\n",
       "      <th>1</th>\n",
       "      <td>-0.001380</td>\n",
       "      <td>-0.001389</td>\n",
       "      <td>-0.001673</td>\n",
       "      <td>0.004239</td>\n",
       "      <td>0.001332</td>\n",
       "      <td>0.006341</td>\n",
       "      <td>-6.438518e-03</td>\n",
       "      <td>0.001363</td>\n",
       "      <td>-0.002764</td>\n",
       "      <td>-0.004458</td>\n",
       "      <td>...</td>\n",
       "      <td>0.002643</td>\n",
       "      <td>-0.002895</td>\n",
       "      <td>0.000000</td>\n",
       "      <td>0.001038</td>\n",
       "      <td>-0.000053</td>\n",
       "      <td>0.001383</td>\n",
       "      <td>0.000955</td>\n",
       "      <td>-0.001803</td>\n",
       "      <td>0.001632</td>\n",
       "      <td>0.000932</td>\n",
       "    </tr>\n",
       "    <tr>\n",
       "      <th>2</th>\n",
       "      <td>-0.000226</td>\n",
       "      <td>-0.001655</td>\n",
       "      <td>0.001934</td>\n",
       "      <td>0.002798</td>\n",
       "      <td>-0.000666</td>\n",
       "      <td>-0.003253</td>\n",
       "      <td>1.296683e-03</td>\n",
       "      <td>0.000511</td>\n",
       "      <td>-0.002092</td>\n",
       "      <td>0.003331</td>\n",
       "      <td>...</td>\n",
       "      <td>-0.000106</td>\n",
       "      <td>0.002359</td>\n",
       "      <td>0.000859</td>\n",
       "      <td>-0.001730</td>\n",
       "      <td>0.000961</td>\n",
       "      <td>0.001514</td>\n",
       "      <td>0.000265</td>\n",
       "      <td>-0.000850</td>\n",
       "      <td>0.000385</td>\n",
       "      <td>0.000719</td>\n",
       "    </tr>\n",
       "    <tr>\n",
       "      <th>3</th>\n",
       "      <td>0.001907</td>\n",
       "      <td>-0.000236</td>\n",
       "      <td>0.000000</td>\n",
       "      <td>-0.000219</td>\n",
       "      <td>0.004321</td>\n",
       "      <td>0.000756</td>\n",
       "      <td>1.754043e-04</td>\n",
       "      <td>0.000964</td>\n",
       "      <td>0.001923</td>\n",
       "      <td>0.001746</td>\n",
       "      <td>...</td>\n",
       "      <td>0.000528</td>\n",
       "      <td>-0.000589</td>\n",
       "      <td>0.000215</td>\n",
       "      <td>0.000106</td>\n",
       "      <td>-0.000961</td>\n",
       "      <td>0.000982</td>\n",
       "      <td>0.000688</td>\n",
       "      <td>0.000000</td>\n",
       "      <td>-0.000945</td>\n",
       "      <td>-0.001917</td>\n",
       "    </tr>\n",
       "    <tr>\n",
       "      <th>4</th>\n",
       "      <td>-0.001305</td>\n",
       "      <td>0.000924</td>\n",
       "      <td>-0.001672</td>\n",
       "      <td>-0.001096</td>\n",
       "      <td>-0.000608</td>\n",
       "      <td>-0.003027</td>\n",
       "      <td>-1.018906e-03</td>\n",
       "      <td>-0.001184</td>\n",
       "      <td>-0.002376</td>\n",
       "      <td>-0.002197</td>\n",
       "      <td>...</td>\n",
       "      <td>-0.001431</td>\n",
       "      <td>-0.001394</td>\n",
       "      <td>0.000000</td>\n",
       "      <td>0.000745</td>\n",
       "      <td>-0.000564</td>\n",
       "      <td>-0.000584</td>\n",
       "      <td>-0.000609</td>\n",
       "      <td>-0.000096</td>\n",
       "      <td>-0.001074</td>\n",
       "      <td>-0.000853</td>\n",
       "    </tr>\n",
       "    <tr>\n",
       "      <th>5</th>\n",
       "      <td>0.001154</td>\n",
       "      <td>0.001998</td>\n",
       "      <td>-0.005402</td>\n",
       "      <td>-0.001812</td>\n",
       "      <td>-0.003047</td>\n",
       "      <td>-0.000117</td>\n",
       "      <td>5.663316e-05</td>\n",
       "      <td>-0.000574</td>\n",
       "      <td>0.000793</td>\n",
       "      <td>0.000564</td>\n",
       "      <td>...</td>\n",
       "      <td>-0.001740</td>\n",
       "      <td>0.001234</td>\n",
       "      <td>-0.000913</td>\n",
       "      <td>-0.000958</td>\n",
       "      <td>-0.001201</td>\n",
       "      <td>0.000212</td>\n",
       "      <td>-0.000119</td>\n",
       "      <td>0.001635</td>\n",
       "      <td>-0.002876</td>\n",
       "      <td>-0.000935</td>\n",
       "    </tr>\n",
       "    <tr>\n",
       "      <th>...</th>\n",
       "      <td>...</td>\n",
       "      <td>...</td>\n",
       "      <td>...</td>\n",
       "      <td>...</td>\n",
       "      <td>...</td>\n",
       "      <td>...</td>\n",
       "      <td>...</td>\n",
       "      <td>...</td>\n",
       "      <td>...</td>\n",
       "      <td>...</td>\n",
       "      <td>...</td>\n",
       "      <td>...</td>\n",
       "      <td>...</td>\n",
       "      <td>...</td>\n",
       "      <td>...</td>\n",
       "      <td>...</td>\n",
       "      <td>...</td>\n",
       "      <td>...</td>\n",
       "      <td>...</td>\n",
       "      <td>...</td>\n",
       "      <td>...</td>\n",
       "    </tr>\n",
       "    <tr>\n",
       "      <th>356</th>\n",
       "      <td>-0.000308</td>\n",
       "      <td>-0.000926</td>\n",
       "      <td>-0.000055</td>\n",
       "      <td>0.000228</td>\n",
       "      <td>0.004093</td>\n",
       "      <td>-0.000799</td>\n",
       "      <td>8.365168e-04</td>\n",
       "      <td>0.002243</td>\n",
       "      <td>0.000448</td>\n",
       "      <td>0.002173</td>\n",
       "      <td>...</td>\n",
       "      <td>0.000053</td>\n",
       "      <td>0.000376</td>\n",
       "      <td>0.000053</td>\n",
       "      <td>0.000400</td>\n",
       "      <td>-0.000402</td>\n",
       "      <td>-0.000267</td>\n",
       "      <td>0.000453</td>\n",
       "      <td>0.000000</td>\n",
       "      <td>-0.000265</td>\n",
       "      <td>-0.000143</td>\n",
       "    </tr>\n",
       "    <tr>\n",
       "      <th>357</th>\n",
       "      <td>-0.001233</td>\n",
       "      <td>-0.001494</td>\n",
       "      <td>0.001809</td>\n",
       "      <td>-0.001654</td>\n",
       "      <td>0.002585</td>\n",
       "      <td>-0.000914</td>\n",
       "      <td>1.672194e-04</td>\n",
       "      <td>-0.000058</td>\n",
       "      <td>0.000672</td>\n",
       "      <td>0.002108</td>\n",
       "      <td>...</td>\n",
       "      <td>0.000053</td>\n",
       "      <td>-0.000592</td>\n",
       "      <td>0.000053</td>\n",
       "      <td>-0.000591</td>\n",
       "      <td>-0.000161</td>\n",
       "      <td>-0.000694</td>\n",
       "      <td>0.000027</td>\n",
       "      <td>-0.000053</td>\n",
       "      <td>0.000424</td>\n",
       "      <td>0.000059</td>\n",
       "    </tr>\n",
       "    <tr>\n",
       "      <th>358</th>\n",
       "      <td>0.000411</td>\n",
       "      <td>0.000361</td>\n",
       "      <td>0.000000</td>\n",
       "      <td>-0.002057</td>\n",
       "      <td>-0.001321</td>\n",
       "      <td>-0.000457</td>\n",
       "      <td>-2.787146e-04</td>\n",
       "      <td>0.001105</td>\n",
       "      <td>-0.001344</td>\n",
       "      <td>0.002884</td>\n",
       "      <td>...</td>\n",
       "      <td>0.000053</td>\n",
       "      <td>0.000539</td>\n",
       "      <td>-0.000027</td>\n",
       "      <td>-0.000107</td>\n",
       "      <td>-0.000156</td>\n",
       "      <td>0.000427</td>\n",
       "      <td>-0.000107</td>\n",
       "      <td>-0.000111</td>\n",
       "      <td>0.000159</td>\n",
       "      <td>0.000160</td>\n",
       "    </tr>\n",
       "    <tr>\n",
       "      <th>359</th>\n",
       "      <td>-0.000668</td>\n",
       "      <td>-0.001857</td>\n",
       "      <td>0.003117</td>\n",
       "      <td>-0.000400</td>\n",
       "      <td>-0.000345</td>\n",
       "      <td>-0.000400</td>\n",
       "      <td>2.894286e-03</td>\n",
       "      <td>0.000180</td>\n",
       "      <td>-0.000785</td>\n",
       "      <td>0.002098</td>\n",
       "      <td>...</td>\n",
       "      <td>0.000000</td>\n",
       "      <td>0.000000</td>\n",
       "      <td>-0.000399</td>\n",
       "      <td>-0.000053</td>\n",
       "      <td>0.000076</td>\n",
       "      <td>-0.000107</td>\n",
       "      <td>-0.000107</td>\n",
       "      <td>-0.000154</td>\n",
       "      <td>0.000080</td>\n",
       "      <td>0.000160</td>\n",
       "    </tr>\n",
       "    <tr>\n",
       "      <th>360</th>\n",
       "      <td>-0.001235</td>\n",
       "      <td>0.000671</td>\n",
       "      <td>-0.001749</td>\n",
       "      <td>-0.000229</td>\n",
       "      <td>0.004072</td>\n",
       "      <td>-0.000859</td>\n",
       "      <td>5.558954e-07</td>\n",
       "      <td>0.000518</td>\n",
       "      <td>0.001513</td>\n",
       "      <td>-0.001498</td>\n",
       "      <td>...</td>\n",
       "      <td>-0.000159</td>\n",
       "      <td>0.000215</td>\n",
       "      <td>-0.000053</td>\n",
       "      <td>-0.000695</td>\n",
       "      <td>0.000214</td>\n",
       "      <td>0.000142</td>\n",
       "      <td>-0.000053</td>\n",
       "      <td>-0.000106</td>\n",
       "      <td>0.000610</td>\n",
       "      <td>-0.000400</td>\n",
       "    </tr>\n",
       "  </tbody>\n",
       "</table>\n",
       "<p>360 rows × 2574 columns</p>\n",
       "</div>"
      ],
      "text/plain": [
       "     2008-01-02   2008-01-03   2008-01-04   2008-01-07   2008-01-08   \\\n",
       "1      -0.001380    -0.001389    -0.001673     0.004239     0.001332   \n",
       "2      -0.000226    -0.001655     0.001934     0.002798    -0.000666   \n",
       "3       0.001907    -0.000236     0.000000    -0.000219     0.004321   \n",
       "4      -0.001305     0.000924    -0.001672    -0.001096    -0.000608   \n",
       "5       0.001154     0.001998    -0.005402    -0.001812    -0.003047   \n",
       "..           ...          ...          ...          ...          ...   \n",
       "356    -0.000308    -0.000926    -0.000055     0.000228     0.004093   \n",
       "357    -0.001233    -0.001494     0.001809    -0.001654     0.002585   \n",
       "358     0.000411     0.000361     0.000000    -0.002057    -0.001321   \n",
       "359    -0.000668    -0.001857     0.003117    -0.000400    -0.000345   \n",
       "360    -0.001235     0.000671    -0.001749    -0.000229     0.004072   \n",
       "\n",
       "     2008-01-09    2008-01-10   2008-01-11   2008-01-14   2008-01-15   ...  \\\n",
       "1       0.006341 -6.438518e-03     0.001363    -0.002764    -0.004458  ...   \n",
       "2      -0.003253  1.296683e-03     0.000511    -0.002092     0.003331  ...   \n",
       "3       0.000756  1.754043e-04     0.000964     0.001923     0.001746  ...   \n",
       "4      -0.003027 -1.018906e-03    -0.001184    -0.002376    -0.002197  ...   \n",
       "5      -0.000117  5.663316e-05    -0.000574     0.000793     0.000564  ...   \n",
       "..           ...           ...          ...          ...          ...  ...   \n",
       "356    -0.000799  8.365168e-04     0.002243     0.000448     0.002173  ...   \n",
       "357    -0.000914  1.672194e-04    -0.000058     0.000672     0.002108  ...   \n",
       "358    -0.000457 -2.787146e-04     0.001105    -0.001344     0.002884  ...   \n",
       "359    -0.000400  2.894286e-03     0.000180    -0.000785     0.002098  ...   \n",
       "360    -0.000859  5.558954e-07     0.000518     0.001513    -0.001498  ...   \n",
       "\n",
       "     2018-05-14   2018-05-15   2018-05-16   2018-05-17   2018-05-18   \\\n",
       "1       0.002643    -0.002895     0.000000     0.001038    -0.000053   \n",
       "2      -0.000106     0.002359     0.000859    -0.001730     0.000961   \n",
       "3       0.000528    -0.000589     0.000215     0.000106    -0.000961   \n",
       "4      -0.001431    -0.001394     0.000000     0.000745    -0.000564   \n",
       "5      -0.001740     0.001234    -0.000913    -0.000958    -0.001201   \n",
       "..           ...          ...          ...          ...          ...   \n",
       "356     0.000053     0.000376     0.000053     0.000400    -0.000402   \n",
       "357     0.000053    -0.000592     0.000053    -0.000591    -0.000161   \n",
       "358     0.000053     0.000539    -0.000027    -0.000107    -0.000156   \n",
       "359     0.000000     0.000000    -0.000399    -0.000053     0.000076   \n",
       "360    -0.000159     0.000215    -0.000053    -0.000695     0.000214   \n",
       "\n",
       "     2018-05-21   2018-05-22   2018-05-24   2018-05-25   2018-05-30   \n",
       "1       0.001383     0.000955    -0.001803     0.001632     0.000932  \n",
       "2       0.001514     0.000265    -0.000850     0.000385     0.000719  \n",
       "3       0.000982     0.000688     0.000000    -0.000945    -0.001917  \n",
       "4      -0.000584    -0.000609    -0.000096    -0.001074    -0.000853  \n",
       "5       0.000212    -0.000119     0.001635    -0.002876    -0.000935  \n",
       "..           ...          ...          ...          ...          ...  \n",
       "356    -0.000267     0.000453     0.000000    -0.000265    -0.000143  \n",
       "357    -0.000694     0.000027    -0.000053     0.000424     0.000059  \n",
       "358     0.000427    -0.000107    -0.000111     0.000159     0.000160  \n",
       "359    -0.000107    -0.000107    -0.000154     0.000080     0.000160  \n",
       "360     0.000142    -0.000053    -0.000106     0.000610    -0.000400  \n",
       "\n",
       "[360 rows x 2574 columns]"
      ]
     },
     "execution_count": 55,
     "metadata": {},
     "output_type": "execute_result"
    }
   ],
   "source": [
    "log_return = pd.DataFrame(Log_Return)\n",
    "log_return = log_return.dropna()\n",
    "log_return"
   ]
  },
  {
   "cell_type": "code",
   "execution_count": 56,
   "metadata": {},
   "outputs": [
    {
     "data": {
      "text/html": [
       "<div>\n",
       "<style scoped>\n",
       "    .dataframe tbody tr th:only-of-type {\n",
       "        vertical-align: middle;\n",
       "    }\n",
       "\n",
       "    .dataframe tbody tr th {\n",
       "        vertical-align: top;\n",
       "    }\n",
       "\n",
       "    .dataframe thead th {\n",
       "        text-align: right;\n",
       "    }\n",
       "</style>\n",
       "<table border=\"1\" class=\"dataframe\">\n",
       "  <thead>\n",
       "    <tr style=\"text-align: right;\">\n",
       "      <th></th>\n",
       "      <th>1</th>\n",
       "      <th>2</th>\n",
       "      <th>3</th>\n",
       "      <th>4</th>\n",
       "      <th>5</th>\n",
       "      <th>6</th>\n",
       "      <th>7</th>\n",
       "      <th>8</th>\n",
       "      <th>9</th>\n",
       "      <th>10</th>\n",
       "      <th>...</th>\n",
       "      <th>351</th>\n",
       "      <th>352</th>\n",
       "      <th>353</th>\n",
       "      <th>354</th>\n",
       "      <th>355</th>\n",
       "      <th>356</th>\n",
       "      <th>357</th>\n",
       "      <th>358</th>\n",
       "      <th>359</th>\n",
       "      <th>360</th>\n",
       "    </tr>\n",
       "  </thead>\n",
       "  <tbody>\n",
       "    <tr>\n",
       "      <th>2008-01-02</th>\n",
       "      <td>-0.001380</td>\n",
       "      <td>-0.000226</td>\n",
       "      <td>0.001907</td>\n",
       "      <td>-0.001305</td>\n",
       "      <td>0.001154</td>\n",
       "      <td>0.000050</td>\n",
       "      <td>-0.001606</td>\n",
       "      <td>-0.000759</td>\n",
       "      <td>0.001713</td>\n",
       "      <td>-0.001356</td>\n",
       "      <td>...</td>\n",
       "      <td>-0.000566</td>\n",
       "      <td>0.001081</td>\n",
       "      <td>0.000514</td>\n",
       "      <td>0.000833</td>\n",
       "      <td>0.001068</td>\n",
       "      <td>-0.000308</td>\n",
       "      <td>-0.001233</td>\n",
       "      <td>0.000411</td>\n",
       "      <td>-0.000668</td>\n",
       "      <td>-0.001235</td>\n",
       "    </tr>\n",
       "    <tr>\n",
       "      <th>2008-01-03</th>\n",
       "      <td>-0.001389</td>\n",
       "      <td>-0.001655</td>\n",
       "      <td>-0.000236</td>\n",
       "      <td>0.000924</td>\n",
       "      <td>0.001998</td>\n",
       "      <td>0.001227</td>\n",
       "      <td>0.000614</td>\n",
       "      <td>-0.000920</td>\n",
       "      <td>0.000460</td>\n",
       "      <td>0.000766</td>\n",
       "      <td>...</td>\n",
       "      <td>-0.001440</td>\n",
       "      <td>0.000823</td>\n",
       "      <td>-0.000206</td>\n",
       "      <td>0.000360</td>\n",
       "      <td>-0.000360</td>\n",
       "      <td>-0.000926</td>\n",
       "      <td>-0.001494</td>\n",
       "      <td>0.000361</td>\n",
       "      <td>-0.001857</td>\n",
       "      <td>0.000671</td>\n",
       "    </tr>\n",
       "    <tr>\n",
       "      <th>2008-01-04</th>\n",
       "      <td>-0.001673</td>\n",
       "      <td>0.001934</td>\n",
       "      <td>0.000000</td>\n",
       "      <td>-0.001672</td>\n",
       "      <td>-0.005402</td>\n",
       "      <td>-0.002211</td>\n",
       "      <td>-0.001529</td>\n",
       "      <td>0.001424</td>\n",
       "      <td>0.002474</td>\n",
       "      <td>-0.001315</td>\n",
       "      <td>...</td>\n",
       "      <td>-0.000766</td>\n",
       "      <td>0.003117</td>\n",
       "      <td>-0.001867</td>\n",
       "      <td>-0.003059</td>\n",
       "      <td>-0.000165</td>\n",
       "      <td>-0.000055</td>\n",
       "      <td>0.001809</td>\n",
       "      <td>0.000000</td>\n",
       "      <td>0.003117</td>\n",
       "      <td>-0.001749</td>\n",
       "    </tr>\n",
       "    <tr>\n",
       "      <th>2008-01-07</th>\n",
       "      <td>0.004239</td>\n",
       "      <td>0.002798</td>\n",
       "      <td>-0.000219</td>\n",
       "      <td>-0.001096</td>\n",
       "      <td>-0.001812</td>\n",
       "      <td>-0.002696</td>\n",
       "      <td>-0.002427</td>\n",
       "      <td>-0.001990</td>\n",
       "      <td>0.000664</td>\n",
       "      <td>0.000332</td>\n",
       "      <td>...</td>\n",
       "      <td>0.002618</td>\n",
       "      <td>-0.000682</td>\n",
       "      <td>0.000796</td>\n",
       "      <td>-0.002390</td>\n",
       "      <td>-0.000456</td>\n",
       "      <td>0.000228</td>\n",
       "      <td>-0.001654</td>\n",
       "      <td>-0.002057</td>\n",
       "      <td>-0.000400</td>\n",
       "      <td>-0.000229</td>\n",
       "    </tr>\n",
       "    <tr>\n",
       "      <th>2008-01-08</th>\n",
       "      <td>0.001332</td>\n",
       "      <td>-0.000666</td>\n",
       "      <td>0.004321</td>\n",
       "      <td>-0.000608</td>\n",
       "      <td>-0.003047</td>\n",
       "      <td>0.005533</td>\n",
       "      <td>-0.003151</td>\n",
       "      <td>-0.002105</td>\n",
       "      <td>-0.003946</td>\n",
       "      <td>0.002058</td>\n",
       "      <td>...</td>\n",
       "      <td>-0.000057</td>\n",
       "      <td>0.000515</td>\n",
       "      <td>-0.003608</td>\n",
       "      <td>0.000573</td>\n",
       "      <td>-0.007423</td>\n",
       "      <td>0.004093</td>\n",
       "      <td>0.002585</td>\n",
       "      <td>-0.001321</td>\n",
       "      <td>-0.000345</td>\n",
       "      <td>0.004072</td>\n",
       "    </tr>\n",
       "    <tr>\n",
       "      <th>...</th>\n",
       "      <td>...</td>\n",
       "      <td>...</td>\n",
       "      <td>...</td>\n",
       "      <td>...</td>\n",
       "      <td>...</td>\n",
       "      <td>...</td>\n",
       "      <td>...</td>\n",
       "      <td>...</td>\n",
       "      <td>...</td>\n",
       "      <td>...</td>\n",
       "      <td>...</td>\n",
       "      <td>...</td>\n",
       "      <td>...</td>\n",
       "      <td>...</td>\n",
       "      <td>...</td>\n",
       "      <td>...</td>\n",
       "      <td>...</td>\n",
       "      <td>...</td>\n",
       "      <td>...</td>\n",
       "      <td>...</td>\n",
       "      <td>...</td>\n",
       "    </tr>\n",
       "    <tr>\n",
       "      <th>2018-05-21</th>\n",
       "      <td>0.001383</td>\n",
       "      <td>0.001514</td>\n",
       "      <td>0.000982</td>\n",
       "      <td>-0.000584</td>\n",
       "      <td>0.000212</td>\n",
       "      <td>0.000483</td>\n",
       "      <td>-0.000013</td>\n",
       "      <td>0.001279</td>\n",
       "      <td>0.000635</td>\n",
       "      <td>0.000106</td>\n",
       "      <td>...</td>\n",
       "      <td>0.000107</td>\n",
       "      <td>0.000107</td>\n",
       "      <td>0.000000</td>\n",
       "      <td>0.000053</td>\n",
       "      <td>-0.000320</td>\n",
       "      <td>-0.000267</td>\n",
       "      <td>-0.000694</td>\n",
       "      <td>0.000427</td>\n",
       "      <td>-0.000107</td>\n",
       "      <td>0.000142</td>\n",
       "    </tr>\n",
       "    <tr>\n",
       "      <th>2018-05-22</th>\n",
       "      <td>0.000955</td>\n",
       "      <td>0.000265</td>\n",
       "      <td>0.000688</td>\n",
       "      <td>-0.000609</td>\n",
       "      <td>-0.000119</td>\n",
       "      <td>0.000411</td>\n",
       "      <td>0.000106</td>\n",
       "      <td>0.000106</td>\n",
       "      <td>-0.000202</td>\n",
       "      <td>0.000308</td>\n",
       "      <td>...</td>\n",
       "      <td>-0.000107</td>\n",
       "      <td>0.000107</td>\n",
       "      <td>0.000000</td>\n",
       "      <td>0.000107</td>\n",
       "      <td>0.000213</td>\n",
       "      <td>0.000453</td>\n",
       "      <td>0.000027</td>\n",
       "      <td>-0.000107</td>\n",
       "      <td>-0.000107</td>\n",
       "      <td>-0.000053</td>\n",
       "    </tr>\n",
       "    <tr>\n",
       "      <th>2018-05-24</th>\n",
       "      <td>-0.001803</td>\n",
       "      <td>-0.000850</td>\n",
       "      <td>0.000000</td>\n",
       "      <td>-0.000096</td>\n",
       "      <td>0.001635</td>\n",
       "      <td>-0.000430</td>\n",
       "      <td>0.000699</td>\n",
       "      <td>-0.000110</td>\n",
       "      <td>-0.000159</td>\n",
       "      <td>0.000477</td>\n",
       "      <td>...</td>\n",
       "      <td>-0.000159</td>\n",
       "      <td>0.000143</td>\n",
       "      <td>-0.000170</td>\n",
       "      <td>0.000186</td>\n",
       "      <td>0.000159</td>\n",
       "      <td>0.000000</td>\n",
       "      <td>-0.000053</td>\n",
       "      <td>-0.000111</td>\n",
       "      <td>-0.000154</td>\n",
       "      <td>-0.000106</td>\n",
       "    </tr>\n",
       "    <tr>\n",
       "      <th>2018-05-25</th>\n",
       "      <td>0.001632</td>\n",
       "      <td>0.000385</td>\n",
       "      <td>-0.000945</td>\n",
       "      <td>-0.001074</td>\n",
       "      <td>-0.002876</td>\n",
       "      <td>0.001122</td>\n",
       "      <td>0.000692</td>\n",
       "      <td>0.000213</td>\n",
       "      <td>-0.000213</td>\n",
       "      <td>0.000000</td>\n",
       "      <td>...</td>\n",
       "      <td>0.000371</td>\n",
       "      <td>-0.000106</td>\n",
       "      <td>-0.000371</td>\n",
       "      <td>-0.000212</td>\n",
       "      <td>-0.000212</td>\n",
       "      <td>-0.000265</td>\n",
       "      <td>0.000424</td>\n",
       "      <td>0.000159</td>\n",
       "      <td>0.000080</td>\n",
       "      <td>0.000610</td>\n",
       "    </tr>\n",
       "    <tr>\n",
       "      <th>2018-05-30</th>\n",
       "      <td>0.000932</td>\n",
       "      <td>0.000719</td>\n",
       "      <td>-0.001917</td>\n",
       "      <td>-0.000853</td>\n",
       "      <td>-0.000935</td>\n",
       "      <td>0.001148</td>\n",
       "      <td>0.000587</td>\n",
       "      <td>-0.000747</td>\n",
       "      <td>0.000320</td>\n",
       "      <td>-0.000427</td>\n",
       "      <td>...</td>\n",
       "      <td>-0.000053</td>\n",
       "      <td>-0.000133</td>\n",
       "      <td>-0.000455</td>\n",
       "      <td>-0.000293</td>\n",
       "      <td>-0.000209</td>\n",
       "      <td>-0.000143</td>\n",
       "      <td>0.000059</td>\n",
       "      <td>0.000160</td>\n",
       "      <td>0.000160</td>\n",
       "      <td>-0.000400</td>\n",
       "    </tr>\n",
       "  </tbody>\n",
       "</table>\n",
       "<p>2574 rows × 360 columns</p>\n",
       "</div>"
      ],
      "text/plain": [
       "                  1         2         3         4         5         6    \\\n",
       "2008-01-02  -0.001380 -0.000226  0.001907 -0.001305  0.001154  0.000050   \n",
       "2008-01-03  -0.001389 -0.001655 -0.000236  0.000924  0.001998  0.001227   \n",
       "2008-01-04  -0.001673  0.001934  0.000000 -0.001672 -0.005402 -0.002211   \n",
       "2008-01-07   0.004239  0.002798 -0.000219 -0.001096 -0.001812 -0.002696   \n",
       "2008-01-08   0.001332 -0.000666  0.004321 -0.000608 -0.003047  0.005533   \n",
       "...               ...       ...       ...       ...       ...       ...   \n",
       "2018-05-21   0.001383  0.001514  0.000982 -0.000584  0.000212  0.000483   \n",
       "2018-05-22   0.000955  0.000265  0.000688 -0.000609 -0.000119  0.000411   \n",
       "2018-05-24  -0.001803 -0.000850  0.000000 -0.000096  0.001635 -0.000430   \n",
       "2018-05-25   0.001632  0.000385 -0.000945 -0.001074 -0.002876  0.001122   \n",
       "2018-05-30   0.000932  0.000719 -0.001917 -0.000853 -0.000935  0.001148   \n",
       "\n",
       "                  7         8         9         10   ...       351       352  \\\n",
       "2008-01-02  -0.001606 -0.000759  0.001713 -0.001356  ... -0.000566  0.001081   \n",
       "2008-01-03   0.000614 -0.000920  0.000460  0.000766  ... -0.001440  0.000823   \n",
       "2008-01-04  -0.001529  0.001424  0.002474 -0.001315  ... -0.000766  0.003117   \n",
       "2008-01-07  -0.002427 -0.001990  0.000664  0.000332  ...  0.002618 -0.000682   \n",
       "2008-01-08  -0.003151 -0.002105 -0.003946  0.002058  ... -0.000057  0.000515   \n",
       "...               ...       ...       ...       ...  ...       ...       ...   \n",
       "2018-05-21  -0.000013  0.001279  0.000635  0.000106  ...  0.000107  0.000107   \n",
       "2018-05-22   0.000106  0.000106 -0.000202  0.000308  ... -0.000107  0.000107   \n",
       "2018-05-24   0.000699 -0.000110 -0.000159  0.000477  ... -0.000159  0.000143   \n",
       "2018-05-25   0.000692  0.000213 -0.000213  0.000000  ...  0.000371 -0.000106   \n",
       "2018-05-30   0.000587 -0.000747  0.000320 -0.000427  ... -0.000053 -0.000133   \n",
       "\n",
       "                  353       354       355       356       357       358  \\\n",
       "2008-01-02   0.000514  0.000833  0.001068 -0.000308 -0.001233  0.000411   \n",
       "2008-01-03  -0.000206  0.000360 -0.000360 -0.000926 -0.001494  0.000361   \n",
       "2008-01-04  -0.001867 -0.003059 -0.000165 -0.000055  0.001809  0.000000   \n",
       "2008-01-07   0.000796 -0.002390 -0.000456  0.000228 -0.001654 -0.002057   \n",
       "2008-01-08  -0.003608  0.000573 -0.007423  0.004093  0.002585 -0.001321   \n",
       "...               ...       ...       ...       ...       ...       ...   \n",
       "2018-05-21   0.000000  0.000053 -0.000320 -0.000267 -0.000694  0.000427   \n",
       "2018-05-22   0.000000  0.000107  0.000213  0.000453  0.000027 -0.000107   \n",
       "2018-05-24  -0.000170  0.000186  0.000159  0.000000 -0.000053 -0.000111   \n",
       "2018-05-25  -0.000371 -0.000212 -0.000212 -0.000265  0.000424  0.000159   \n",
       "2018-05-30  -0.000455 -0.000293 -0.000209 -0.000143  0.000059  0.000160   \n",
       "\n",
       "                  359       360  \n",
       "2008-01-02  -0.000668 -0.001235  \n",
       "2008-01-03  -0.001857  0.000671  \n",
       "2008-01-04   0.003117 -0.001749  \n",
       "2008-01-07  -0.000400 -0.000229  \n",
       "2008-01-08  -0.000345  0.004072  \n",
       "...               ...       ...  \n",
       "2018-05-21  -0.000107  0.000142  \n",
       "2018-05-22  -0.000107 -0.000053  \n",
       "2018-05-24  -0.000154 -0.000106  \n",
       "2018-05-25   0.000080  0.000610  \n",
       "2018-05-30   0.000160 -0.000400  \n",
       "\n",
       "[2574 rows x 360 columns]"
      ]
     },
     "execution_count": 56,
     "metadata": {},
     "output_type": "execute_result"
    }
   ],
   "source": [
    "test = log_return\n",
    "test = test.T\n",
    "test"
   ]
  },
  {
   "cell_type": "code",
   "execution_count": 57,
   "metadata": {
    "scrolled": false
   },
   "outputs": [],
   "source": [
    "# convert to array\n",
    "df_train = np.array(test).reshape(test.shape[0],test.shape[1],1)\n",
    "df_train = df_train.astype(object)"
   ]
  },
  {
   "cell_type": "code",
   "execution_count": 135,
   "metadata": {},
   "outputs": [],
   "source": [
    "df_train = to_time_series_dataset(np.array(test))"
   ]
  },
  {
   "cell_type": "code",
   "execution_count": 58,
   "metadata": {
    "scrolled": true
   },
   "outputs": [],
   "source": [
    "dba_km = TimeSeriesKMeans(n_clusters=2,\n",
    "                          n_init=2,\n",
    "                          metric=\"dtw\",\n",
    "                          random_state=666)\n"
   ]
  },
  {
   "cell_type": "code",
   "execution_count": 60,
   "metadata": {},
   "outputs": [],
   "source": [
    "y_pred = dba_km.fit_predict(df_train)\n",
    "labels = dict(zip(test.index, y_pred))"
   ]
  },
  {
   "cell_type": "code",
   "execution_count": 88,
   "metadata": {
    "scrolled": false
   },
   "outputs": [
    {
     "data": {
      "image/png": "[encoded data removed]",
      "text/plain": [
       "<Figure size 720x360 with 2 Axes>"
      ]
     },
     "metadata": {
      "needs_background": "light"
     },
     "output_type": "display_data"
    }
   ],
   "source": [
    "plt.figure(figsize=(10, 5))\n",
    "for yi in range(2):\n",
    "    plt.subplot(1, 2, yi + 1)\n",
    "    for xx in df_train[y_pred == yi]:\n",
    "        plt.plot(xx.ravel(), \"k-\", alpha=.5)\n",
    "    plt.plot(dba_km.cluster_centers_[yi].ravel(), \"r-\")\n",
    "    plt.xlim(0, 360)\n",
    "    plt.ylim(-0.1, 0.1)\n",
    "    plt.text(0.55, 0.85,'Cluster %d' % (yi + 1),\n",
    "             transform=plt.gca().transAxes)\n",
    "    plt.savefig(\"/Users/luzhang/Desktop/wrap up/AMZN_regime.pdf\", format = \"pdf\")"
   ]
  },
  {
   "cell_type": "code",
   "execution_count": 117,
   "metadata": {},
   "outputs": [],
   "source": [
    "data_labels = labels.items()\n",
    "data_list = list(data_labels)\n",
    "\n",
    "df_labels = pd.DataFrame(data_list)\n",
    "df_labels.columns=['datetime','regime']\n",
    "df_labels = df_labels.set_index('datetime')"
   ]
  },
  {
   "cell_type": "code",
   "execution_count": 121,
   "metadata": {},
   "outputs": [],
   "source": [
    "df_labels.index = df_labels.index.str.rstrip()"
   ]
  },
  {
   "cell_type": "code",
   "execution_count": 135,
   "metadata": {},
   "outputs": [],
   "source": [
    "df_merged = pd.read_csv(\"/Users/luzhang/Documents/GitHub/WrappingUp_Exploring_Intraday_Momentum_2rd_try/Data/AMZN_Returns_updates.csv\")"
   ]
  },
  {
   "cell_type": "code",
   "execution_count": 137,
   "metadata": {},
   "outputs": [],
   "source": [
    "df_merged = df_merged.set_index(\"datetime\")"
   ]
  },
  {
   "cell_type": "code",
   "execution_count": 138,
   "metadata": {},
   "outputs": [
    {
     "data": {
      "text/plain": [
       "Index(['2008-01-03', '2008-01-04', '2008-01-07', '2008-01-08', '2008-01-09',\n",
       "       '2008-01-10', '2008-01-11', '2008-01-14', '2008-01-15', '2008-01-16',\n",
       "       ...\n",
       "       '2018-05-17', '2018-05-18', '2018-05-21', '2018-05-22', '2018-05-23',\n",
       "       '2018-05-24', '2018-05-25', '2018-05-29', '2018-05-30', '2018-05-31'],\n",
       "      dtype='object', name='datetime', length=2601)"
      ]
     },
     "execution_count": 138,
     "metadata": {},
     "output_type": "execute_result"
    }
   ],
   "source": [
    "df_merged.index"
   ]
  },
  {
   "cell_type": "code",
   "execution_count": 139,
   "metadata": {},
   "outputs": [],
   "source": [
    "new_data = pd.merge(df_merged, df_labels, on=\"datetime\", how = \"inner\")"
   ]
  },
  {
   "cell_type": "code",
   "execution_count": 141,
   "metadata": {},
   "outputs": [],
   "source": [
    "new_data.to_csv(\"/Users/luzhang/Documents/GitHub/WrappingUp_Exploring_Intraday_Momentum_2rd_try/Data/AMZN_Returns_with_regime.csv\", index = True)"
   ]
  },
  {
   "cell_type": "markdown",
   "metadata": {},
   "source": [
    "## Backward Linear Regression"
   ]
  },
  {
   "cell_type": "code",
   "execution_count": null,
   "metadata": {},
   "outputs": [],
   "source": []
  },
  {
   "cell_type": "code",
   "execution_count": null,
   "metadata": {},
   "outputs": [],
   "source": []
  },
  {
   "cell_type": "code",
   "execution_count": null,
   "metadata": {},
   "outputs": [],
   "source": []
  },
  {
   "cell_type": "code",
   "execution_count": null,
   "metadata": {},
   "outputs": [],
   "source": []
  },
  {
   "cell_type": "code",
   "execution_count": 60,
   "metadata": {},
   "outputs": [],
   "source": [
    "returns = pd.read_csv(\"/Users/luzhang/Documents/GitHub/WrappingUp_Exploring_Intraday_Momentum_2rd_try/Data/NVDA_nscoreReturns.csv\")"
   ]
  },
  {
   "cell_type": "code",
   "execution_count": 61,
   "metadata": {},
   "outputs": [
    {
     "data": {
      "text/html": [
       "<div>\n",
       "<style scoped>\n",
       "    .dataframe tbody tr th:only-of-type {\n",
       "        vertical-align: middle;\n",
       "    }\n",
       "\n",
       "    .dataframe tbody tr th {\n",
       "        vertical-align: top;\n",
       "    }\n",
       "\n",
       "    .dataframe thead th {\n",
       "        text-align: right;\n",
       "    }\n",
       "</style>\n",
       "<table border=\"1\" class=\"dataframe\">\n",
       "  <thead>\n",
       "    <tr style=\"text-align: right;\">\n",
       "      <th></th>\n",
       "      <th>R_LH</th>\n",
       "      <th>R_LH0</th>\n",
       "      <th>R_ROD</th>\n",
       "      <th>R_ON</th>\n",
       "      <th>R_FH</th>\n",
       "      <th>R_ONFH</th>\n",
       "      <th>R_M</th>\n",
       "      <th>R_SLH</th>\n",
       "    </tr>\n",
       "  </thead>\n",
       "  <tbody>\n",
       "    <tr>\n",
       "      <th>0</th>\n",
       "      <td>0.989237</td>\n",
       "      <td>-0.818603</td>\n",
       "      <td>-0.807677</td>\n",
       "      <td>-0.483500</td>\n",
       "      <td>0.663580</td>\n",
       "      <td>0.216674</td>\n",
       "      <td>-1.403715</td>\n",
       "      <td>1.055423</td>\n",
       "    </tr>\n",
       "    <tr>\n",
       "      <th>1</th>\n",
       "      <td>-1.728742</td>\n",
       "      <td>0.989237</td>\n",
       "      <td>0.092145</td>\n",
       "      <td>1.073870</td>\n",
       "      <td>0.503202</td>\n",
       "      <td>1.083232</td>\n",
       "      <td>-0.987816</td>\n",
       "      <td>-0.093021</td>\n",
       "    </tr>\n",
       "    <tr>\n",
       "      <th>2</th>\n",
       "      <td>-0.536145</td>\n",
       "      <td>-1.732642</td>\n",
       "      <td>0.543208</td>\n",
       "      <td>1.406055</td>\n",
       "      <td>-0.538160</td>\n",
       "      <td>0.766074</td>\n",
       "      <td>0.341897</td>\n",
       "      <td>-1.084801</td>\n",
       "    </tr>\n",
       "    <tr>\n",
       "      <th>3</th>\n",
       "      <td>0.259747</td>\n",
       "      <td>-0.538160</td>\n",
       "      <td>-0.691006</td>\n",
       "      <td>0.431206</td>\n",
       "      <td>-0.441759</td>\n",
       "      <td>-0.074640</td>\n",
       "      <td>-0.572762</td>\n",
       "      <td>-1.401383</td>\n",
       "    </tr>\n",
       "    <tr>\n",
       "      <th>4</th>\n",
       "      <td>-1.138180</td>\n",
       "      <td>0.259747</td>\n",
       "      <td>1.029889</td>\n",
       "      <td>0.870942</td>\n",
       "      <td>0.717833</td>\n",
       "      <td>1.073870</td>\n",
       "      <td>0.481541</td>\n",
       "      <td>-0.077264</td>\n",
       "    </tr>\n",
       "  </tbody>\n",
       "</table>\n",
       "</div>"
      ],
      "text/plain": [
       "       R_LH     R_LH0     R_ROD      R_ON      R_FH    R_ONFH       R_M  \\\n",
       "0  0.989237 -0.818603 -0.807677 -0.483500  0.663580  0.216674 -1.403715   \n",
       "1 -1.728742  0.989237  0.092145  1.073870  0.503202  1.083232 -0.987816   \n",
       "2 -0.536145 -1.732642  0.543208  1.406055 -0.538160  0.766074  0.341897   \n",
       "3  0.259747 -0.538160 -0.691006  0.431206 -0.441759 -0.074640 -0.572762   \n",
       "4 -1.138180  0.259747  1.029889  0.870942  0.717833  1.073870  0.481541   \n",
       "\n",
       "      R_SLH  \n",
       "0  1.055423  \n",
       "1 -0.093021  \n",
       "2 -1.084801  \n",
       "3 -1.401383  \n",
       "4 -0.077264  "
      ]
     },
     "execution_count": 61,
     "metadata": {},
     "output_type": "execute_result"
    }
   ],
   "source": [
    "returns.head()"
   ]
  },
  {
   "cell_type": "code",
   "execution_count": 62,
   "metadata": {},
   "outputs": [],
   "source": [
    "y = returns.R_LH"
   ]
  },
  {
   "cell_type": "code",
   "execution_count": 63,
   "metadata": {},
   "outputs": [],
   "source": [
    "X = returns[returns.columns[1:8]]"
   ]
  },
  {
   "cell_type": "code",
   "execution_count": 64,
   "metadata": {},
   "outputs": [],
   "source": [
    "lr_full = sm.OLS(y,X).fit()"
   ]
  },
  {
   "cell_type": "code",
   "execution_count": 65,
   "metadata": {
    "scrolled": true
   },
   "outputs": [
    {
     "data": {
      "text/html": [
       "<table class=\"simpletable\">\n",
       "<caption>OLS Regression Results</caption>\n",
       "<tr>\n",
       "  <th>Dep. Variable:</th>          <td>R_LH</td>       <th>  R-squared (uncentered):</th>      <td>   0.012</td>\n",
       "</tr>\n",
       "<tr>\n",
       "  <th>Model:</th>                   <td>OLS</td>       <th>  Adj. R-squared (uncentered):</th> <td>   0.009</td>\n",
       "</tr>\n",
       "<tr>\n",
       "  <th>Method:</th>             <td>Least Squares</td>  <th>  F-statistic:       </th>          <td>   4.904</td>\n",
       "</tr>\n",
       "<tr>\n",
       "  <th>Date:</th>             <td>Fri, 06 Oct 2023</td> <th>  Prob (F-statistic):</th>          <td>1.61e-05</td>\n",
       "</tr>\n",
       "<tr>\n",
       "  <th>Time:</th>                 <td>11:45:19</td>     <th>  Log-Likelihood:    </th>          <td> -4060.2</td>\n",
       "</tr>\n",
       "<tr>\n",
       "  <th>No. Observations:</th>      <td>  2874</td>      <th>  AIC:               </th>          <td>   8134.</td>\n",
       "</tr>\n",
       "<tr>\n",
       "  <th>Df Residuals:</th>          <td>  2867</td>      <th>  BIC:               </th>          <td>   8176.</td>\n",
       "</tr>\n",
       "<tr>\n",
       "  <th>Df Model:</th>              <td>     7</td>      <th>                     </th>              <td> </td>   \n",
       "</tr>\n",
       "<tr>\n",
       "  <th>Covariance Type:</th>      <td>nonrobust</td>    <th>                     </th>              <td> </td>   \n",
       "</tr>\n",
       "</table>\n",
       "<table class=\"simpletable\">\n",
       "<tr>\n",
       "     <td></td>       <th>coef</th>     <th>std err</th>      <th>t</th>      <th>P>|t|</th>  <th>[0.025</th>    <th>0.975]</th>  \n",
       "</tr>\n",
       "<tr>\n",
       "  <th>R_LH0</th>  <td>   -0.0656</td> <td>    0.019</td> <td>   -3.523</td> <td> 0.000</td> <td>   -0.102</td> <td>   -0.029</td>\n",
       "</tr>\n",
       "<tr>\n",
       "  <th>R_ROD</th>  <td>    0.0710</td> <td>    0.105</td> <td>    0.676</td> <td> 0.499</td> <td>   -0.135</td> <td>    0.277</td>\n",
       "</tr>\n",
       "<tr>\n",
       "  <th>R_ON</th>   <td>    0.0759</td> <td>    0.064</td> <td>    1.182</td> <td> 0.237</td> <td>   -0.050</td> <td>    0.202</td>\n",
       "</tr>\n",
       "<tr>\n",
       "  <th>R_FH</th>   <td>    0.0306</td> <td>    0.065</td> <td>    0.468</td> <td> 0.640</td> <td>   -0.098</td> <td>    0.159</td>\n",
       "</tr>\n",
       "<tr>\n",
       "  <th>R_ONFH</th> <td>   -0.0793</td> <td>    0.105</td> <td>   -0.758</td> <td> 0.449</td> <td>   -0.285</td> <td>    0.126</td>\n",
       "</tr>\n",
       "<tr>\n",
       "  <th>R_M</th>    <td>    0.0162</td> <td>    0.072</td> <td>    0.226</td> <td> 0.821</td> <td>   -0.124</td> <td>    0.156</td>\n",
       "</tr>\n",
       "<tr>\n",
       "  <th>R_SLH</th>  <td>   -0.0204</td> <td>    0.026</td> <td>   -0.781</td> <td> 0.435</td> <td>   -0.071</td> <td>    0.031</td>\n",
       "</tr>\n",
       "</table>\n",
       "<table class=\"simpletable\">\n",
       "<tr>\n",
       "  <th>Omnibus:</th>       <td> 0.156</td> <th>  Durbin-Watson:     </th> <td>   2.000</td>\n",
       "</tr>\n",
       "<tr>\n",
       "  <th>Prob(Omnibus):</th> <td> 0.925</td> <th>  Jarque-Bera (JB):  </th> <td>   0.204</td>\n",
       "</tr>\n",
       "<tr>\n",
       "  <th>Skew:</th>          <td> 0.002</td> <th>  Prob(JB):          </th> <td>   0.903</td>\n",
       "</tr>\n",
       "<tr>\n",
       "  <th>Kurtosis:</th>      <td> 2.959</td> <th>  Cond. No.          </th> <td>    13.2</td>\n",
       "</tr>\n",
       "</table><br/><br/>Notes:<br/>[1] R² is computed without centering (uncentered) since the model does not contain a constant.<br/>[2] Standard Errors assume that the covariance matrix of the errors is correctly specified."
      ],
      "text/plain": [
       "<class 'statsmodels.iolib.summary.Summary'>\n",
       "\"\"\"\n",
       "                                 OLS Regression Results                                \n",
       "=======================================================================================\n",
       "Dep. Variable:                   R_LH   R-squared (uncentered):                   0.012\n",
       "Model:                            OLS   Adj. R-squared (uncentered):              0.009\n",
       "Method:                 Least Squares   F-statistic:                              4.904\n",
       "Date:                Fri, 06 Oct 2023   Prob (F-statistic):                    1.61e-05\n",
       "Time:                        11:45:19   Log-Likelihood:                         -4060.2\n",
       "No. Observations:                2874   AIC:                                      8134.\n",
       "Df Residuals:                    2867   BIC:                                      8176.\n",
       "Df Model:                           7                                                  \n",
       "Covariance Type:            nonrobust                                                  \n",
       "==============================================================================\n",
       "                 coef    std err          t      P>|t|      [0.025      0.975]\n",
       "------------------------------------------------------------------------------\n",
       "R_LH0         -0.0656      0.019     -3.523      0.000      -0.102      -0.029\n",
       "R_ROD          0.0710      0.105      0.676      0.499      -0.135       0.277\n",
       "R_ON           0.0759      0.064      1.182      0.237      -0.050       0.202\n",
       "R_FH           0.0306      0.065      0.468      0.640      -0.098       0.159\n",
       "R_ONFH        -0.0793      0.105     -0.758      0.449      -0.285       0.126\n",
       "R_M            0.0162      0.072      0.226      0.821      -0.124       0.156\n",
       "R_SLH         -0.0204      0.026     -0.781      0.435      -0.071       0.031\n",
       "==============================================================================\n",
       "Omnibus:                        0.156   Durbin-Watson:                   2.000\n",
       "Prob(Omnibus):                  0.925   Jarque-Bera (JB):                0.204\n",
       "Skew:                           0.002   Prob(JB):                        0.903\n",
       "Kurtosis:                       2.959   Cond. No.                         13.2\n",
       "==============================================================================\n",
       "\n",
       "Notes:\n",
       "[1] R² is computed without centering (uncentered) since the model does not contain a constant.\n",
       "[2] Standard Errors assume that the covariance matrix of the errors is correctly specified.\n",
       "\"\"\""
      ]
     },
     "execution_count": 65,
     "metadata": {},
     "output_type": "execute_result"
    }
   ],
   "source": [
    "lr_full.summary()"
   ]
  },
  {
   "cell_type": "code",
   "execution_count": null,
   "metadata": {},
   "outputs": [],
   "source": []
  }
 ],
 "metadata": {
  "kernelspec": {
   "display_name": "Python 3 (ipykernel)",
   "language": "python",
   "name": "python3"
  },
  "language_info": {
   "codemirror_mode": {
    "name": "ipython",
    "version": 3
   },
   "file_extension": ".py",
   "mimetype": "text/x-python",
   "name": "python",
   "nbconvert_exporter": "python",
   "pygments_lexer": "ipython3",
   "version": "3.8.3"
  }
 },
 "nbformat": 4,
 "nbformat_minor": 4
}
