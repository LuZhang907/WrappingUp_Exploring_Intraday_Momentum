{
 "cells": [
  {
   "cell_type": "code",
   "execution_count": 1,
   "metadata": {},
   "outputs": [],
   "source": [
    "import pandas as pd\n",
    "import numpy as np\n",
    "\n",
    "import tslearn\n",
    "from tslearn.clustering import TimeSeriesKMeans\n",
    "from tslearn import metrics\n",
    "\n",
    "import matplotlib.pyplot as plt\n",
    "from functools import reduce\n",
    "\n",
    "import warnings\n",
    "warnings.filterwarnings('ignore')"
   ]
  },
  {
   "cell_type": "code",
   "execution_count": 2,
   "metadata": {},
   "outputs": [],
   "source": [
    "# read data\n",
    "df = pd.read_csv(\"/Users/luzhang/Desktop/data/AMZN.csv\")\n",
    "df = pd.DataFrame(df)\n",
    "# drop nas\n",
    "df = df.dropna()"
   ]
  },
  {
   "cell_type": "code",
   "execution_count": 3,
   "metadata": {},
   "outputs": [
    {
     "data": {
      "text/plain": [
       "(1335090, 6)"
      ]
     },
     "execution_count": 3,
     "metadata": {},
     "output_type": "execute_result"
    }
   ],
   "source": [
    "df.shape"
   ]
  },
  {
   "cell_type": "code",
   "execution_count": 4,
   "metadata": {},
   "outputs": [],
   "source": [
    "# data pre-cessing\n",
    "#change sereis to datetime format\n",
    "df['time']=pd.to_datetime(df['time'])\n",
    "df.set_index('time', inplace=True)"
   ]
  },
  {
   "cell_type": "code",
   "execution_count": 5,
   "metadata": {},
   "outputs": [],
   "source": [
    "# Define Drop outlier day function to drop the incomplete transcation days\n",
    "def DropOutlierday(data):\n",
    "    # subset dataframe such that it only contains the complete transcation\n",
    "    totalDay=pd.to_datetime(data.index.date).unique()\n",
    "    completeDay=totalDay[day_keep]\n",
    "\n",
    "    outlierday=totalDay.difference(completeDay)\n",
    "    data['date'] = [d.date() for d in data.index]\n",
    "\n",
    "    outlierday=outlierday.strftime('%Y-%m-%d')\n",
    "    t=pd.DataFrame()\n",
    "    \n",
    "    for i in range(len(outlierday)):\n",
    "        temp=pd.DataFrame(data['date'].loc[outlierday[i]])\n",
    "        t=t.append(temp)\n",
    "    \n",
    "    data = data.drop(t.index) # drop the outlier day\n",
    "    data = data.drop('date',1) # delete columne 'date'\n",
    "    return data"
   ]
  },
  {
   "cell_type": "markdown",
   "metadata": {},
   "source": [
    "## returns calculation"
   ]
  },
  {
   "cell_type": "markdown",
   "metadata": {},
   "source": [
    "##### R_LH0 and R_LH "
   ]
  },
  {
   "cell_type": "code",
   "execution_count": 6,
   "metadata": {},
   "outputs": [],
   "source": [
    "#subset df to calculate LH and LH0 \n",
    "df_LH_LH0 = df[((df.index.hour == 15) & (df.index.minute == 30))|\n",
    "        ((df.index.hour == 16) & (df.index.minute == 0))]\n",
    "#df_LH_LH0"
   ]
  },
  {
   "cell_type": "code",
   "execution_count": 7,
   "metadata": {},
   "outputs": [
    {
     "data": {
      "text/plain": [
       "2866"
      ]
     },
     "execution_count": 7,
     "metadata": {},
     "output_type": "execute_result"
    }
   ],
   "source": [
    "# find the complete transaction\n",
    "rows_eachday = df_LH_LH0.groupby(df_LH_LH0.index.date).size().values\n",
    "day_keep = [True if x==2 else False for x in rows_eachday]\n",
    "sum(day_keep)"
   ]
  },
  {
   "cell_type": "code",
   "execution_count": 8,
   "metadata": {
    "scrolled": true
   },
   "outputs": [],
   "source": [
    "df_LH_LH0 = DropOutlierday(df_LH_LH0)\n",
    "df_LH_LH0['returns'] = df_LH_LH0['close'].pct_change()"
   ]
  },
  {
   "cell_type": "code",
   "execution_count": 9,
   "metadata": {},
   "outputs": [],
   "source": [
    "df_LH = df_LH_LH0[((df_LH_LH0.index.hour == 16) & (df_LH_LH0.index.minute == 0))]\n",
    "df_LH = df_LH.drop(['open','high','low','close','volume'],1)\n",
    "df_LH = df_LH.rename(columns={\"returns\":\"R_LH\"})"
   ]
  },
  {
   "cell_type": "code",
   "execution_count": 10,
   "metadata": {},
   "outputs": [],
   "source": [
    "df_LH0=df_LH.shift()\n",
    "df_LH0=df_LH0.rename(columns={'R_LH':'R_LH0'})"
   ]
  },
  {
   "cell_type": "markdown",
   "metadata": {},
   "source": [
    "##### R_ROD"
   ]
  },
  {
   "cell_type": "code",
   "execution_count": 11,
   "metadata": {},
   "outputs": [],
   "source": [
    "#subset df to calculate ROD\n",
    "df_ROD = df[((df.index.hour == 15) & (df.index.minute == 30))|\n",
    "        ((df.index.hour == 16) & (df.index.minute == 0))]\n",
    "#df_ROD"
   ]
  },
  {
   "cell_type": "code",
   "execution_count": 12,
   "metadata": {},
   "outputs": [
    {
     "data": {
      "text/plain": [
       "2866"
      ]
     },
     "execution_count": 12,
     "metadata": {},
     "output_type": "execute_result"
    }
   ],
   "source": [
    "# find the complete transaction\n",
    "rows_eachday = df_ROD.groupby(df_ROD.index.date).size().values\n",
    "day_keep = [True if x==2 else False for x in rows_eachday]\n",
    "sum(day_keep)"
   ]
  },
  {
   "cell_type": "code",
   "execution_count": 13,
   "metadata": {
    "scrolled": true
   },
   "outputs": [],
   "source": [
    "df_ROD  = DropOutlierday(df_ROD)\n",
    "df_ROD['returns'] = df_ROD['close'].pct_change()"
   ]
  },
  {
   "cell_type": "code",
   "execution_count": 14,
   "metadata": {
    "scrolled": false
   },
   "outputs": [],
   "source": [
    "df_ROD=df_ROD[((df_ROD.index.hour == 15) & (df_ROD.index.minute == 30))]\n",
    "df_ROD=df_ROD.drop(['open','high','low','close','volume'],1)\n",
    "df_ROD=df_ROD.rename(columns={'returns':'R_ROD'})"
   ]
  },
  {
   "cell_type": "markdown",
   "metadata": {},
   "source": [
    "### R_ON"
   ]
  },
  {
   "cell_type": "code",
   "execution_count": 15,
   "metadata": {},
   "outputs": [],
   "source": [
    "df_ON=df[((df.index.hour == 9) & (df.index.minute == 31))|\n",
    "        ((df.index.hour == 16) & (df.index.minute == 0))]\n",
    "# Larry: 9:31 is the data for the first minute which is better than using the data for 9:29~9:30"
   ]
  },
  {
   "cell_type": "code",
   "execution_count": 16,
   "metadata": {},
   "outputs": [
    {
     "data": {
      "text/plain": [
       "2866"
      ]
     },
     "execution_count": 16,
     "metadata": {},
     "output_type": "execute_result"
    }
   ],
   "source": [
    "rows_eachday = df_ON.groupby(df_ON.index.date).size().values\n",
    "day_keep = [True if x==2 else False for x in rows_eachday]\n",
    "sum(day_keep)"
   ]
  },
  {
   "cell_type": "code",
   "execution_count": 17,
   "metadata": {
    "scrolled": true
   },
   "outputs": [],
   "source": [
    "df_ON  = DropOutlierday(df_ON)\n",
    "df_ON['close_pre'] = df_ON['close'].shift()"
   ]
  },
  {
   "cell_type": "code",
   "execution_count": 18,
   "metadata": {},
   "outputs": [],
   "source": [
    "df_ON = df_ON[((df_ON.index.hour == 9) & (df_ON.index.minute == 31))]"
   ]
  },
  {
   "cell_type": "code",
   "execution_count": 19,
   "metadata": {},
   "outputs": [],
   "source": [
    "df_ON['R_ON'] = df_ON['open']/df_ON['close_pre']-1;\n",
    "df_ON = df_ON.drop([\"open\",\"high\",\"low\",\"close\",\"volume\",\"close_pre\"],1)"
   ]
  },
  {
   "cell_type": "markdown",
   "metadata": {},
   "source": [
    "### R_FH"
   ]
  },
  {
   "cell_type": "code",
   "execution_count": 20,
   "metadata": {},
   "outputs": [],
   "source": [
    "df_FH = df[((df.index.hour == 9) & (df.index.minute == 31))|\n",
    "        ((df.index.hour == 10) & (df.index.minute == 0))]\n",
    "# Larry: use 9:31 data\n",
    "#df_FH"
   ]
  },
  {
   "cell_type": "code",
   "execution_count": 21,
   "metadata": {},
   "outputs": [
    {
     "data": {
      "text/plain": [
       "2889"
      ]
     },
     "execution_count": 21,
     "metadata": {},
     "output_type": "execute_result"
    }
   ],
   "source": [
    "rows_eachday = df_FH.groupby(df_FH.index.date).size().values\n",
    "day_keep = [True if x==2 else False for x in rows_eachday]\n",
    "sum(day_keep)"
   ]
  },
  {
   "cell_type": "code",
   "execution_count": 22,
   "metadata": {},
   "outputs": [],
   "source": [
    "df_FH = DropOutlierday(df_FH)"
   ]
  },
  {
   "cell_type": "code",
   "execution_count": 23,
   "metadata": {},
   "outputs": [],
   "source": [
    "df_FH['open_pre30']=df_FH['open'].shift()"
   ]
  },
  {
   "cell_type": "code",
   "execution_count": 24,
   "metadata": {},
   "outputs": [],
   "source": [
    "df_FH=df_FH[(df_FH.index.hour==10)&(df_FH.index.minute==0)]"
   ]
  },
  {
   "cell_type": "code",
   "execution_count": 25,
   "metadata": {},
   "outputs": [],
   "source": [
    "df_FH['R_FH'] = df_FH['open']/df_FH['open_pre30']-1\n",
    "df_FH = df_FH.drop([\"open\",\"high\",\"low\",\"close\",\"open_pre30\",'volume'],1)"
   ]
  },
  {
   "cell_type": "markdown",
   "metadata": {},
   "source": [
    "### R_ONFH"
   ]
  },
  {
   "cell_type": "code",
   "execution_count": 26,
   "metadata": {
    "scrolled": true
   },
   "outputs": [],
   "source": [
    "df_ONFH = df[((df.index.hour==16)&(df.index.minute==0))|\n",
    "            ((df.index.hour==10)&(df.index.minute==0))]"
   ]
  },
  {
   "cell_type": "code",
   "execution_count": 27,
   "metadata": {},
   "outputs": [
    {
     "data": {
      "text/plain": [
       "2867"
      ]
     },
     "execution_count": 27,
     "metadata": {},
     "output_type": "execute_result"
    }
   ],
   "source": [
    "rows_eachday = df_ONFH.groupby(df_ONFH.index.date).size().values\n",
    "day_keep = [True if x==2 else False for x in rows_eachday]\n",
    "sum(day_keep)"
   ]
  },
  {
   "cell_type": "code",
   "execution_count": 28,
   "metadata": {},
   "outputs": [],
   "source": [
    "df_ONFH = DropOutlierday(df_ONFH)"
   ]
  },
  {
   "cell_type": "code",
   "execution_count": 29,
   "metadata": {},
   "outputs": [],
   "source": [
    "df_ONFH['close_preday']=df_ONFH['close'].shift()"
   ]
  },
  {
   "cell_type": "code",
   "execution_count": 30,
   "metadata": {
    "scrolled": true
   },
   "outputs": [],
   "source": [
    "df_ONFH=df_ONFH[((df_ONFH.index.hour==10)&(df_ONFH.index.minute==0))]\n",
    "df_ONFH['R_ONFH']=df_ONFH['open']/df_ONFH['close_preday']-1\n",
    "df_ONFH = df_ONFH.drop(['open','high','low','close','volume','close_preday'],1)"
   ]
  },
  {
   "cell_type": "markdown",
   "metadata": {},
   "source": [
    "### R_M"
   ]
  },
  {
   "cell_type": "code",
   "execution_count": 31,
   "metadata": {},
   "outputs": [],
   "source": [
    "df_M = df[((df.index.hour==10)&(df.index.minute==0)) |\n",
    "         ((df.index.hour==15)&(df.index.minute==0))]"
   ]
  },
  {
   "cell_type": "code",
   "execution_count": 32,
   "metadata": {},
   "outputs": [
    {
     "data": {
      "text/plain": [
       "2861"
      ]
     },
     "execution_count": 32,
     "metadata": {},
     "output_type": "execute_result"
    }
   ],
   "source": [
    "rows_eachday = df_M.groupby(df_M.index.date).size().values\n",
    "day_keep = [True if x==2 else False for x in rows_eachday]\n",
    "sum(day_keep)"
   ]
  },
  {
   "cell_type": "code",
   "execution_count": 33,
   "metadata": {},
   "outputs": [],
   "source": [
    "df_M = DropOutlierday(df_M)"
   ]
  },
  {
   "cell_type": "code",
   "execution_count": 34,
   "metadata": {
    "scrolled": true
   },
   "outputs": [],
   "source": [
    "df_M['open_past30'] = df_M['open'].shift()\n",
    "df_M = df_M[((df_M.index.hour==15)&(df_M.index.minute==0))]\n",
    "df_M['R_M'] = df_M['close']/df_M['open_past30']-1\n",
    "df_M = df_M.drop(['open','high','low','close','open_past30','volume'],1)\n",
    "#df_M"
   ]
  },
  {
   "cell_type": "markdown",
   "metadata": {},
   "source": [
    "### R_SLH"
   ]
  },
  {
   "cell_type": "code",
   "execution_count": 35,
   "metadata": {},
   "outputs": [],
   "source": [
    "df_SLH = df[((df.index.hour==15)&(df.index.minute==30)) |\n",
    "           ((df.index.hour==15)&(df.index.minute==0))]"
   ]
  },
  {
   "cell_type": "code",
   "execution_count": 36,
   "metadata": {},
   "outputs": [
    {
     "data": {
      "text/plain": [
       "2861"
      ]
     },
     "execution_count": 36,
     "metadata": {},
     "output_type": "execute_result"
    }
   ],
   "source": [
    "rows_eachday = df_SLH.groupby(df_SLH.index.date).size().values\n",
    "day_keep = [True if x==2 else False for x in rows_eachday]\n",
    "sum(day_keep)"
   ]
  },
  {
   "cell_type": "code",
   "execution_count": 37,
   "metadata": {
    "scrolled": true
   },
   "outputs": [],
   "source": [
    "df_SLH = DropOutlierday(df_SLH)"
   ]
  },
  {
   "cell_type": "code",
   "execution_count": 38,
   "metadata": {},
   "outputs": [],
   "source": [
    "df_SLH['close_pre60'] = df_SLH['close'].shift()\n",
    "df_SLH = df_SLH[((df_SLH.index.hour==15)&(df_SLH.index.minute==30))]\n",
    "df_SLH['R_SLH'] = df_SLH['close']/df_SLH['close_pre60']-1\n",
    "df_SLH = df_SLH.drop(['open','high','low','close','volume','close_pre60'],1)"
   ]
  },
  {
   "cell_type": "code",
   "execution_count": 39,
   "metadata": {},
   "outputs": [],
   "source": [
    "# keep the date and ignore the time\n",
    "df_LH['new_date'] = [d.date() for d in df_LH.index]\n",
    "df_LH0['new_date'] = [d.date() for d in df_LH0.index]\n",
    "df_ROD['new_date'] = [d.date() for d in df_ROD.index]\n",
    "df_ON['new_date'] = [d.date() for d in df_ON.index]\n",
    "df_FH['new_date'] = [d.date() for d in df_FH.index]\n",
    "df_ONFH['new_date'] = [d.date() for d in df_ONFH.index]\n",
    "df_M['new_date'] = [d.date() for d in df_M.index]\n",
    "df_SLH['new_date'] = [d.date() for d in df_SLH.index]"
   ]
  },
  {
   "cell_type": "code",
   "execution_count": 41,
   "metadata": {},
   "outputs": [],
   "source": [
    "# merge by same date\n",
    "data_frames=[df_LH, df_LH0, df_ROD, df_ON, df_FH, df_ONFH, df_M, df_SLH]\n",
    "df_merged = reduce(lambda  left,right: pd.merge(left,right,on=['new_date'],\n",
    "                                            how='inner'), data_frames)"
   ]
  },
  {
   "cell_type": "code",
   "execution_count": 42,
   "metadata": {},
   "outputs": [],
   "source": [
    "df_merged=df_merged.rename(columns={'new_date':'datetime'})"
   ]
  },
  {
   "cell_type": "code",
   "execution_count": 43,
   "metadata": {
    "scrolled": true
   },
   "outputs": [
    {
     "data": {
      "text/html": [
       "<div>\n",
       "<style scoped>\n",
       "    .dataframe tbody tr th:only-of-type {\n",
       "        vertical-align: middle;\n",
       "    }\n",
       "\n",
       "    .dataframe tbody tr th {\n",
       "        vertical-align: top;\n",
       "    }\n",
       "\n",
       "    .dataframe thead th {\n",
       "        text-align: right;\n",
       "    }\n",
       "</style>\n",
       "<table border=\"1\" class=\"dataframe\">\n",
       "  <thead>\n",
       "    <tr style=\"text-align: right;\">\n",
       "      <th></th>\n",
       "      <th>R_LH</th>\n",
       "      <th>datetime</th>\n",
       "      <th>R_LH0</th>\n",
       "      <th>R_ROD</th>\n",
       "      <th>R_ON</th>\n",
       "      <th>R_FH</th>\n",
       "      <th>R_ONFH</th>\n",
       "      <th>R_M</th>\n",
       "      <th>R_SLH</th>\n",
       "    </tr>\n",
       "  </thead>\n",
       "  <tbody>\n",
       "    <tr>\n",
       "      <th>0</th>\n",
       "      <td>-0.006806</td>\n",
       "      <td>2007-04-30</td>\n",
       "      <td>0.005461</td>\n",
       "      <td>-0.014217</td>\n",
       "      <td>NaN</td>\n",
       "      <td>0.000162</td>\n",
       "      <td>NaN</td>\n",
       "      <td>-0.003553</td>\n",
       "      <td>0.000162</td>\n",
       "    </tr>\n",
       "    <tr>\n",
       "      <th>1</th>\n",
       "      <td>0.010753</td>\n",
       "      <td>2007-05-01</td>\n",
       "      <td>-0.006806</td>\n",
       "      <td>0.001468</td>\n",
       "      <td>-0.002774</td>\n",
       "      <td>-0.005399</td>\n",
       "      <td>-0.008158</td>\n",
       "      <td>0.011022</td>\n",
       "      <td>-0.001302</td>\n",
       "    </tr>\n",
       "    <tr>\n",
       "      <th>2</th>\n",
       "      <td>-0.001632</td>\n",
       "      <td>2007-05-02</td>\n",
       "      <td>0.010753</td>\n",
       "      <td>-0.012411</td>\n",
       "      <td>-0.005803</td>\n",
       "      <td>-0.001459</td>\n",
       "      <td>-0.007253</td>\n",
       "      <td>-0.004059</td>\n",
       "      <td>-0.001141</td>\n",
       "    </tr>\n",
       "    <tr>\n",
       "      <th>3</th>\n",
       "      <td>0.001288</td>\n",
       "      <td>2007-05-03</td>\n",
       "      <td>-0.001632</td>\n",
       "      <td>0.015204</td>\n",
       "      <td>-0.001471</td>\n",
       "      <td>0.000164</td>\n",
       "      <td>-0.001308</td>\n",
       "      <td>0.017188</td>\n",
       "      <td>-0.000644</td>\n",
       "    </tr>\n",
       "    <tr>\n",
       "      <th>4</th>\n",
       "      <td>0.005721</td>\n",
       "      <td>2007-05-04</td>\n",
       "      <td>0.001288</td>\n",
       "      <td>0.012062</td>\n",
       "      <td>0.003377</td>\n",
       "      <td>0.015547</td>\n",
       "      <td>0.018977</td>\n",
       "      <td>-0.006944</td>\n",
       "      <td>0.000159</td>\n",
       "    </tr>\n",
       "    <tr>\n",
       "      <th>...</th>\n",
       "      <td>...</td>\n",
       "      <td>...</td>\n",
       "      <td>...</td>\n",
       "      <td>...</td>\n",
       "      <td>...</td>\n",
       "      <td>...</td>\n",
       "      <td>...</td>\n",
       "      <td>...</td>\n",
       "      <td>...</td>\n",
       "    </tr>\n",
       "    <tr>\n",
       "      <th>2854</th>\n",
       "      <td>0.003023</td>\n",
       "      <td>2018-10-26</td>\n",
       "      <td>-0.005102</td>\n",
       "      <td>-0.081181</td>\n",
       "      <td>-0.072415</td>\n",
       "      <td>0.003014</td>\n",
       "      <td>-0.069619</td>\n",
       "      <td>-0.012246</td>\n",
       "      <td>-0.000184</td>\n",
       "    </tr>\n",
       "    <tr>\n",
       "      <th>2855</th>\n",
       "      <td>0.013736</td>\n",
       "      <td>2018-10-29</td>\n",
       "      <td>0.003023</td>\n",
       "      <td>-0.073938</td>\n",
       "      <td>0.013759</td>\n",
       "      <td>-0.015342</td>\n",
       "      <td>-0.001794</td>\n",
       "      <td>-0.064634</td>\n",
       "      <td>-0.008168</td>\n",
       "    </tr>\n",
       "    <tr>\n",
       "      <th>2856</th>\n",
       "      <td>0.006944</td>\n",
       "      <td>2018-10-30</td>\n",
       "      <td>0.013736</td>\n",
       "      <td>-0.012464</td>\n",
       "      <td>-0.034068</td>\n",
       "      <td>0.036207</td>\n",
       "      <td>0.000905</td>\n",
       "      <td>-0.016812</td>\n",
       "      <td>0.003514</td>\n",
       "    </tr>\n",
       "    <tr>\n",
       "      <th>2857</th>\n",
       "      <td>-0.005479</td>\n",
       "      <td>2018-10-31</td>\n",
       "      <td>0.006944</td>\n",
       "      <td>0.050994</td>\n",
       "      <td>0.025575</td>\n",
       "      <td>0.017118</td>\n",
       "      <td>0.043131</td>\n",
       "      <td>0.008170</td>\n",
       "      <td>-0.000627</td>\n",
       "    </tr>\n",
       "    <tr>\n",
       "      <th>2858</th>\n",
       "      <td>0.001828</td>\n",
       "      <td>2018-11-01</td>\n",
       "      <td>-0.005479</td>\n",
       "      <td>0.040027</td>\n",
       "      <td>0.015220</td>\n",
       "      <td>-0.008130</td>\n",
       "      <td>0.006966</td>\n",
       "      <td>0.034883</td>\n",
       "      <td>-0.001982</td>\n",
       "    </tr>\n",
       "  </tbody>\n",
       "</table>\n",
       "<p>2859 rows × 9 columns</p>\n",
       "</div>"
      ],
      "text/plain": [
       "          R_LH    datetime     R_LH0     R_ROD      R_ON      R_FH    R_ONFH  \\\n",
       "0    -0.006806  2007-04-30  0.005461 -0.014217       NaN  0.000162       NaN   \n",
       "1     0.010753  2007-05-01 -0.006806  0.001468 -0.002774 -0.005399 -0.008158   \n",
       "2    -0.001632  2007-05-02  0.010753 -0.012411 -0.005803 -0.001459 -0.007253   \n",
       "3     0.001288  2007-05-03 -0.001632  0.015204 -0.001471  0.000164 -0.001308   \n",
       "4     0.005721  2007-05-04  0.001288  0.012062  0.003377  0.015547  0.018977   \n",
       "...        ...         ...       ...       ...       ...       ...       ...   \n",
       "2854  0.003023  2018-10-26 -0.005102 -0.081181 -0.072415  0.003014 -0.069619   \n",
       "2855  0.013736  2018-10-29  0.003023 -0.073938  0.013759 -0.015342 -0.001794   \n",
       "2856  0.006944  2018-10-30  0.013736 -0.012464 -0.034068  0.036207  0.000905   \n",
       "2857 -0.005479  2018-10-31  0.006944  0.050994  0.025575  0.017118  0.043131   \n",
       "2858  0.001828  2018-11-01 -0.005479  0.040027  0.015220 -0.008130  0.006966   \n",
       "\n",
       "           R_M     R_SLH  \n",
       "0    -0.003553  0.000162  \n",
       "1     0.011022 -0.001302  \n",
       "2    -0.004059 -0.001141  \n",
       "3     0.017188 -0.000644  \n",
       "4    -0.006944  0.000159  \n",
       "...        ...       ...  \n",
       "2854 -0.012246 -0.000184  \n",
       "2855 -0.064634 -0.008168  \n",
       "2856 -0.016812  0.003514  \n",
       "2857  0.008170 -0.000627  \n",
       "2858  0.034883 -0.001982  \n",
       "\n",
       "[2859 rows x 9 columns]"
      ]
     },
     "execution_count": 43,
     "metadata": {},
     "output_type": "execute_result"
    }
   ],
   "source": [
    "df_merged"
   ]
  },
  {
   "cell_type": "code",
   "execution_count": 44,
   "metadata": {},
   "outputs": [],
   "source": [
    "df_merged=df_merged.set_index('datetime')"
   ]
  },
  {
   "cell_type": "code",
   "execution_count": 45,
   "metadata": {
    "scrolled": true
   },
   "outputs": [],
   "source": [
    "df_merged = df_merged.dropna()"
   ]
  },
  {
   "cell_type": "code",
   "execution_count": 46,
   "metadata": {},
   "outputs": [],
   "source": [
    "df_merged.to_csv(\"/Users/luzhang/Documents/GitHub/WrappingUp_Exploring_Intraday_Momentum_2rd_try/Data/AMZN_Returns_updates.csv\", index=True)"
   ]
  },
  {
   "cell_type": "markdown",
   "metadata": {},
   "source": [
    "## Market regime label generating"
   ]
  },
  {
   "cell_type": "code",
   "execution_count": 47,
   "metadata": {
    "scrolled": true
   },
   "outputs": [
    {
     "data": {
      "text/html": [
       "<div>\n",
       "<style scoped>\n",
       "    .dataframe tbody tr th:only-of-type {\n",
       "        vertical-align: middle;\n",
       "    }\n",
       "\n",
       "    .dataframe tbody tr th {\n",
       "        vertical-align: top;\n",
       "    }\n",
       "\n",
       "    .dataframe thead th {\n",
       "        text-align: right;\n",
       "    }\n",
       "</style>\n",
       "<table border=\"1\" class=\"dataframe\">\n",
       "  <thead>\n",
       "    <tr style=\"text-align: right;\">\n",
       "      <th></th>\n",
       "      <th>open</th>\n",
       "      <th>high</th>\n",
       "      <th>low</th>\n",
       "      <th>close</th>\n",
       "      <th>volume</th>\n",
       "    </tr>\n",
       "    <tr>\n",
       "      <th>time</th>\n",
       "      <th></th>\n",
       "      <th></th>\n",
       "      <th></th>\n",
       "      <th></th>\n",
       "      <th></th>\n",
       "    </tr>\n",
       "  </thead>\n",
       "  <tbody>\n",
       "    <tr>\n",
       "      <th>2007-04-27 15:30:00</th>\n",
       "      <td>62.2200</td>\n",
       "      <td>62.2700</td>\n",
       "      <td>62.210</td>\n",
       "      <td>62.26</td>\n",
       "      <td>30875.0</td>\n",
       "    </tr>\n",
       "    <tr>\n",
       "      <th>2007-04-30 15:30:00</th>\n",
       "      <td>61.6500</td>\n",
       "      <td>61.7200</td>\n",
       "      <td>61.650</td>\n",
       "      <td>61.71</td>\n",
       "      <td>32433.0</td>\n",
       "    </tr>\n",
       "    <tr>\n",
       "      <th>2007-05-01 15:30:00</th>\n",
       "      <td>61.4600</td>\n",
       "      <td>61.4600</td>\n",
       "      <td>61.370</td>\n",
       "      <td>61.38</td>\n",
       "      <td>31082.0</td>\n",
       "    </tr>\n",
       "    <tr>\n",
       "      <th>2007-05-02 15:30:00</th>\n",
       "      <td>61.2500</td>\n",
       "      <td>61.2800</td>\n",
       "      <td>61.240</td>\n",
       "      <td>61.27</td>\n",
       "      <td>55813.0</td>\n",
       "    </tr>\n",
       "    <tr>\n",
       "      <th>2007-05-03 15:30:00</th>\n",
       "      <td>62.0800</td>\n",
       "      <td>62.1500</td>\n",
       "      <td>62.080</td>\n",
       "      <td>62.10</td>\n",
       "      <td>68496.0</td>\n",
       "    </tr>\n",
       "    <tr>\n",
       "      <th>...</th>\n",
       "      <td>...</td>\n",
       "      <td>...</td>\n",
       "      <td>...</td>\n",
       "      <td>...</td>\n",
       "      <td>...</td>\n",
       "    </tr>\n",
       "    <tr>\n",
       "      <th>2018-10-30 15:30:00</th>\n",
       "      <td>1524.3385</td>\n",
       "      <td>1524.3385</td>\n",
       "      <td>1518.490</td>\n",
       "      <td>1519.43</td>\n",
       "      <td>9612.0</td>\n",
       "    </tr>\n",
       "    <tr>\n",
       "      <th>2018-10-31 09:30:00</th>\n",
       "      <td>1566.7500</td>\n",
       "      <td>1570.2500</td>\n",
       "      <td>1566.750</td>\n",
       "      <td>1570.25</td>\n",
       "      <td>900.0</td>\n",
       "    </tr>\n",
       "    <tr>\n",
       "      <th>2018-10-31 15:30:00</th>\n",
       "      <td>1605.4158</td>\n",
       "      <td>1608.2100</td>\n",
       "      <td>1605.230</td>\n",
       "      <td>1608.00</td>\n",
       "      <td>7565.0</td>\n",
       "    </tr>\n",
       "    <tr>\n",
       "      <th>2018-11-01 09:30:00</th>\n",
       "      <td>1625.0000</td>\n",
       "      <td>1625.1000</td>\n",
       "      <td>1624.720</td>\n",
       "      <td>1624.99</td>\n",
       "      <td>1458.0</td>\n",
       "    </tr>\n",
       "    <tr>\n",
       "      <th>2018-11-01 15:30:00</th>\n",
       "      <td>1663.5594</td>\n",
       "      <td>1663.6100</td>\n",
       "      <td>1662.351</td>\n",
       "      <td>1663.20</td>\n",
       "      <td>4447.0</td>\n",
       "    </tr>\n",
       "  </tbody>\n",
       "</table>\n",
       "<p>5218 rows × 5 columns</p>\n",
       "</div>"
      ],
      "text/plain": [
       "                          open       high       low    close   volume\n",
       "time                                                                 \n",
       "2007-04-27 15:30:00    62.2200    62.2700    62.210    62.26  30875.0\n",
       "2007-04-30 15:30:00    61.6500    61.7200    61.650    61.71  32433.0\n",
       "2007-05-01 15:30:00    61.4600    61.4600    61.370    61.38  31082.0\n",
       "2007-05-02 15:30:00    61.2500    61.2800    61.240    61.27  55813.0\n",
       "2007-05-03 15:30:00    62.0800    62.1500    62.080    62.10  68496.0\n",
       "...                        ...        ...       ...      ...      ...\n",
       "2018-10-30 15:30:00  1524.3385  1524.3385  1518.490  1519.43   9612.0\n",
       "2018-10-31 09:30:00  1566.7500  1570.2500  1566.750  1570.25    900.0\n",
       "2018-10-31 15:30:00  1605.4158  1608.2100  1605.230  1608.00   7565.0\n",
       "2018-11-01 09:30:00  1625.0000  1625.1000  1624.720  1624.99   1458.0\n",
       "2018-11-01 15:30:00  1663.5594  1663.6100  1662.351  1663.20   4447.0\n",
       "\n",
       "[5218 rows x 5 columns]"
      ]
     },
     "execution_count": 47,
     "metadata": {},
     "output_type": "execute_result"
    }
   ],
   "source": [
    "day_ROD = df[((df.index.hour == 9) & (df.index.minute == 30))|\n",
    "        ((df.index.hour == 15) & (df.index.minute == 30))]\n",
    "day_ROD"
   ]
  },
  {
   "cell_type": "code",
   "execution_count": 48,
   "metadata": {},
   "outputs": [
    {
     "data": {
      "text/plain": [
       "2332"
      ]
     },
     "execution_count": 48,
     "metadata": {},
     "output_type": "execute_result"
    }
   ],
   "source": [
    "# find the complete transaction between 9:30-15:30 \n",
    "rows_eachday = day_ROD.groupby(day_ROD.index.date).size().values\n",
    "day_keep = [True if x==2 else False for x in rows_eachday]\n",
    "sum(day_keep)"
   ]
  },
  {
   "cell_type": "code",
   "execution_count": 49,
   "metadata": {},
   "outputs": [],
   "source": [
    "day_ROD = DropOutlierday(day_ROD)"
   ]
  },
  {
   "cell_type": "code",
   "execution_count": 50,
   "metadata": {},
   "outputs": [
    {
     "data": {
      "text/plain": [
       "DatetimeIndex(['2007-08-20', '2007-09-24', '2007-09-25', '2007-09-26',\n",
       "               '2007-09-27', '2007-10-01', '2007-10-02', '2007-10-03',\n",
       "               '2007-10-04', '2007-10-05',\n",
       "               ...\n",
       "               '2018-10-19', '2018-10-22', '2018-10-23', '2018-10-24',\n",
       "               '2018-10-25', '2018-10-26', '2018-10-29', '2018-10-30',\n",
       "               '2018-10-31', '2018-11-01'],\n",
       "              dtype='datetime64[ns]', length=2332, freq=None)"
      ]
     },
     "execution_count": 50,
     "metadata": {},
     "output_type": "execute_result"
    }
   ],
   "source": [
    "# find the unique date on df_LH0\n",
    "unidate = pd.to_datetime(day_ROD.index.date).unique()\n",
    "unidate"
   ]
  },
  {
   "cell_type": "code",
   "execution_count": 51,
   "metadata": {},
   "outputs": [],
   "source": [
    "# set up the time between 9:30 and 15:30\n",
    "T_1530 = '15:30:00'\n",
    "T_930 = '9:30:00'\n",
    "T_1530 = pd.to_timedelta(T_1530)\n",
    "T_930 = pd.to_timedelta(T_930)\n",
    "# prepare the start and end point \n",
    "date1530 = unidate+T_1530\n",
    "date930 = unidate+T_930"
   ]
  },
  {
   "cell_type": "code",
   "execution_count": 52,
   "metadata": {},
   "outputs": [],
   "source": [
    "# calculate log-return (ln(p_t)-ln(p_{t-1}))\n",
    "log_return = list()\n",
    "for i in range(len(unidate)-1):\n",
    "    temp_df = df[date930[i]:date1530[i]]['close']\n",
    "    if len(temp_df)==361:\n",
    "        temp_df_shift = df[date930[i]:date1530[i]]['close'].shift(1)\n",
    "        temp = np.log(temp_df)- np.log(temp_df_shift)\n",
    "        temp = temp.rename(str(unidate[i]))\n",
    "        log_return.append(temp)\n",
    "    else:\n",
    "        i = i+1"
   ]
  },
  {
   "cell_type": "code",
   "execution_count": 53,
   "metadata": {},
   "outputs": [],
   "source": [
    "# convert log_return list to the dataframe \n",
    "Log_Return = log_return[0]\n",
    "Log_Return = pd.DataFrame(Log_Return)\n",
    "Log_Return.reset_index('time',drop = True,inplace=True)\n",
    "Log_Return.columns = Log_Return.columns.str.replace('00:00:00','')\n",
    "\n",
    "for i in np.arange(1,len(log_return)):\n",
    "    temp = log_return[i]\n",
    "    temp = pd.DataFrame(temp)\n",
    "    temp.reset_index('time',drop = True,inplace=True)\n",
    "    temp.columns = temp.columns.str.replace('00:00:00','')\n",
    "    Log_Return = Log_Return.join(temp)"
   ]
  },
  {
   "cell_type": "code",
   "execution_count": 54,
   "metadata": {
    "scrolled": false
   },
   "outputs": [
    {
     "data": {
      "text/html": [
       "<div>\n",
       "<style scoped>\n",
       "    .dataframe tbody tr th:only-of-type {\n",
       "        vertical-align: middle;\n",
       "    }\n",
       "\n",
       "    .dataframe tbody tr th {\n",
       "        vertical-align: top;\n",
       "    }\n",
       "\n",
       "    .dataframe thead th {\n",
       "        text-align: right;\n",
       "    }\n",
       "</style>\n",
       "<table border=\"1\" class=\"dataframe\">\n",
       "  <thead>\n",
       "    <tr style=\"text-align: right;\">\n",
       "      <th></th>\n",
       "      <th>2007-09-24</th>\n",
       "      <th>2007-09-25</th>\n",
       "      <th>2007-09-26</th>\n",
       "      <th>2007-09-27</th>\n",
       "      <th>2007-10-01</th>\n",
       "      <th>2007-10-02</th>\n",
       "      <th>2007-10-03</th>\n",
       "      <th>2007-10-05</th>\n",
       "      <th>2007-10-08</th>\n",
       "      <th>2007-10-09</th>\n",
       "      <th>...</th>\n",
       "      <th>2018-10-18</th>\n",
       "      <th>2018-10-19</th>\n",
       "      <th>2018-10-22</th>\n",
       "      <th>2018-10-23</th>\n",
       "      <th>2018-10-24</th>\n",
       "      <th>2018-10-25</th>\n",
       "      <th>2018-10-26</th>\n",
       "      <th>2018-10-29</th>\n",
       "      <th>2018-10-30</th>\n",
       "      <th>2018-10-31</th>\n",
       "    </tr>\n",
       "  </thead>\n",
       "  <tbody>\n",
       "    <tr>\n",
       "      <th>1</th>\n",
       "      <td>0.001532</td>\n",
       "      <td>0.001305</td>\n",
       "      <td>-0.000212</td>\n",
       "      <td>-0.000638</td>\n",
       "      <td>0.001709</td>\n",
       "      <td>-0.001386</td>\n",
       "      <td>0.003368</td>\n",
       "      <td>-0.000855</td>\n",
       "      <td>0.001061</td>\n",
       "      <td>0.000725</td>\n",
       "      <td>...</td>\n",
       "      <td>-0.002422</td>\n",
       "      <td>-0.004804</td>\n",
       "      <td>-0.001245</td>\n",
       "      <td>-0.006587</td>\n",
       "      <td>0.002360</td>\n",
       "      <td>-0.000743</td>\n",
       "      <td>-0.000822</td>\n",
       "      <td>0.001258</td>\n",
       "      <td>-0.003093</td>\n",
       "      <td>0.000255</td>\n",
       "    </tr>\n",
       "    <tr>\n",
       "      <th>2</th>\n",
       "      <td>0.000219</td>\n",
       "      <td>-0.001414</td>\n",
       "      <td>0.001168</td>\n",
       "      <td>-0.000851</td>\n",
       "      <td>0.001387</td>\n",
       "      <td>-0.002778</td>\n",
       "      <td>0.000000</td>\n",
       "      <td>-0.000428</td>\n",
       "      <td>-0.000954</td>\n",
       "      <td>-0.003316</td>\n",
       "      <td>...</td>\n",
       "      <td>0.001599</td>\n",
       "      <td>-0.003519</td>\n",
       "      <td>0.000018</td>\n",
       "      <td>0.004361</td>\n",
       "      <td>-0.000991</td>\n",
       "      <td>0.001916</td>\n",
       "      <td>-0.008799</td>\n",
       "      <td>-0.006414</td>\n",
       "      <td>0.008020</td>\n",
       "      <td>0.002273</td>\n",
       "    </tr>\n",
       "    <tr>\n",
       "      <th>3</th>\n",
       "      <td>0.001202</td>\n",
       "      <td>-0.000436</td>\n",
       "      <td>-0.000425</td>\n",
       "      <td>-0.000213</td>\n",
       "      <td>0.000105</td>\n",
       "      <td>-0.002904</td>\n",
       "      <td>-0.003586</td>\n",
       "      <td>0.000000</td>\n",
       "      <td>0.004235</td>\n",
       "      <td>-0.001766</td>\n",
       "      <td>...</td>\n",
       "      <td>-0.003024</td>\n",
       "      <td>0.002017</td>\n",
       "      <td>-0.000701</td>\n",
       "      <td>0.001726</td>\n",
       "      <td>-0.006810</td>\n",
       "      <td>0.002298</td>\n",
       "      <td>-0.011070</td>\n",
       "      <td>-0.001790</td>\n",
       "      <td>0.011911</td>\n",
       "      <td>0.003934</td>\n",
       "    </tr>\n",
       "    <tr>\n",
       "      <th>4</th>\n",
       "      <td>-0.003172</td>\n",
       "      <td>-0.000109</td>\n",
       "      <td>-0.001275</td>\n",
       "      <td>-0.001812</td>\n",
       "      <td>-0.003950</td>\n",
       "      <td>-0.002460</td>\n",
       "      <td>0.000108</td>\n",
       "      <td>-0.001499</td>\n",
       "      <td>-0.001480</td>\n",
       "      <td>-0.000624</td>\n",
       "      <td>...</td>\n",
       "      <td>0.000974</td>\n",
       "      <td>0.001521</td>\n",
       "      <td>0.001978</td>\n",
       "      <td>-0.002024</td>\n",
       "      <td>-0.001811</td>\n",
       "      <td>-0.002861</td>\n",
       "      <td>-0.006713</td>\n",
       "      <td>0.003295</td>\n",
       "      <td>-0.005264</td>\n",
       "      <td>-0.004077</td>\n",
       "    </tr>\n",
       "    <tr>\n",
       "      <th>5</th>\n",
       "      <td>-0.001206</td>\n",
       "      <td>0.001198</td>\n",
       "      <td>-0.005651</td>\n",
       "      <td>-0.001174</td>\n",
       "      <td>-0.000749</td>\n",
       "      <td>0.000108</td>\n",
       "      <td>0.000545</td>\n",
       "      <td>-0.000965</td>\n",
       "      <td>-0.000106</td>\n",
       "      <td>-0.000833</td>\n",
       "      <td>...</td>\n",
       "      <td>0.001312</td>\n",
       "      <td>-0.002860</td>\n",
       "      <td>-0.000386</td>\n",
       "      <td>0.004106</td>\n",
       "      <td>0.000377</td>\n",
       "      <td>-0.000270</td>\n",
       "      <td>0.007621</td>\n",
       "      <td>-0.006126</td>\n",
       "      <td>-0.001543</td>\n",
       "      <td>0.001239</td>\n",
       "    </tr>\n",
       "    <tr>\n",
       "      <th>...</th>\n",
       "      <td>...</td>\n",
       "      <td>...</td>\n",
       "      <td>...</td>\n",
       "      <td>...</td>\n",
       "      <td>...</td>\n",
       "      <td>...</td>\n",
       "      <td>...</td>\n",
       "      <td>...</td>\n",
       "      <td>...</td>\n",
       "      <td>...</td>\n",
       "      <td>...</td>\n",
       "      <td>...</td>\n",
       "      <td>...</td>\n",
       "      <td>...</td>\n",
       "      <td>...</td>\n",
       "      <td>...</td>\n",
       "      <td>...</td>\n",
       "      <td>...</td>\n",
       "      <td>...</td>\n",
       "      <td>...</td>\n",
       "      <td>...</td>\n",
       "    </tr>\n",
       "    <tr>\n",
       "      <th>356</th>\n",
       "      <td>-0.000217</td>\n",
       "      <td>0.000000</td>\n",
       "      <td>0.000321</td>\n",
       "      <td>0.000081</td>\n",
       "      <td>-0.000537</td>\n",
       "      <td>-0.000048</td>\n",
       "      <td>0.000054</td>\n",
       "      <td>0.000107</td>\n",
       "      <td>-0.000524</td>\n",
       "      <td>-0.000313</td>\n",
       "      <td>...</td>\n",
       "      <td>0.000292</td>\n",
       "      <td>0.001213</td>\n",
       "      <td>0.000010</td>\n",
       "      <td>0.000372</td>\n",
       "      <td>0.001849</td>\n",
       "      <td>-0.001909</td>\n",
       "      <td>-0.002429</td>\n",
       "      <td>0.002268</td>\n",
       "      <td>0.001669</td>\n",
       "      <td>-0.000768</td>\n",
       "    </tr>\n",
       "    <tr>\n",
       "      <th>357</th>\n",
       "      <td>0.000000</td>\n",
       "      <td>0.000000</td>\n",
       "      <td>0.000748</td>\n",
       "      <td>0.000000</td>\n",
       "      <td>0.001073</td>\n",
       "      <td>-0.000169</td>\n",
       "      <td>-0.000008</td>\n",
       "      <td>-0.000429</td>\n",
       "      <td>-0.001028</td>\n",
       "      <td>-0.000731</td>\n",
       "      <td>...</td>\n",
       "      <td>0.000248</td>\n",
       "      <td>0.001163</td>\n",
       "      <td>0.000396</td>\n",
       "      <td>0.000152</td>\n",
       "      <td>0.001257</td>\n",
       "      <td>0.000431</td>\n",
       "      <td>0.000849</td>\n",
       "      <td>-0.001612</td>\n",
       "      <td>0.000455</td>\n",
       "      <td>0.000068</td>\n",
       "    </tr>\n",
       "    <tr>\n",
       "      <th>358</th>\n",
       "      <td>0.000542</td>\n",
       "      <td>0.001501</td>\n",
       "      <td>-0.001711</td>\n",
       "      <td>-0.000857</td>\n",
       "      <td>0.000107</td>\n",
       "      <td>0.000326</td>\n",
       "      <td>-0.000101</td>\n",
       "      <td>-0.000751</td>\n",
       "      <td>-0.000126</td>\n",
       "      <td>-0.000941</td>\n",
       "      <td>...</td>\n",
       "      <td>0.000417</td>\n",
       "      <td>-0.000017</td>\n",
       "      <td>0.000468</td>\n",
       "      <td>-0.000536</td>\n",
       "      <td>-0.003164</td>\n",
       "      <td>0.000000</td>\n",
       "      <td>0.001604</td>\n",
       "      <td>-0.004490</td>\n",
       "      <td>0.002020</td>\n",
       "      <td>0.000006</td>\n",
       "    </tr>\n",
       "    <tr>\n",
       "      <th>359</th>\n",
       "      <td>0.000000</td>\n",
       "      <td>-0.001608</td>\n",
       "      <td>0.000321</td>\n",
       "      <td>0.000750</td>\n",
       "      <td>-0.000054</td>\n",
       "      <td>-0.000326</td>\n",
       "      <td>-0.000119</td>\n",
       "      <td>0.001180</td>\n",
       "      <td>0.000000</td>\n",
       "      <td>-0.000209</td>\n",
       "      <td>...</td>\n",
       "      <td>0.000859</td>\n",
       "      <td>0.000917</td>\n",
       "      <td>0.000049</td>\n",
       "      <td>0.000152</td>\n",
       "      <td>-0.002270</td>\n",
       "      <td>-0.000101</td>\n",
       "      <td>0.000611</td>\n",
       "      <td>0.001853</td>\n",
       "      <td>0.002032</td>\n",
       "      <td>-0.000704</td>\n",
       "    </tr>\n",
       "    <tr>\n",
       "      <th>360</th>\n",
       "      <td>0.001300</td>\n",
       "      <td>0.000322</td>\n",
       "      <td>0.000535</td>\n",
       "      <td>0.000321</td>\n",
       "      <td>0.000054</td>\n",
       "      <td>0.000326</td>\n",
       "      <td>-0.000097</td>\n",
       "      <td>0.000214</td>\n",
       "      <td>0.000210</td>\n",
       "      <td>-0.000105</td>\n",
       "      <td>...</td>\n",
       "      <td>-0.001465</td>\n",
       "      <td>0.000642</td>\n",
       "      <td>0.001043</td>\n",
       "      <td>-0.001750</td>\n",
       "      <td>-0.000579</td>\n",
       "      <td>0.001500</td>\n",
       "      <td>-0.001248</td>\n",
       "      <td>-0.001800</td>\n",
       "      <td>-0.003064</td>\n",
       "      <td>0.001568</td>\n",
       "    </tr>\n",
       "  </tbody>\n",
       "</table>\n",
       "<p>360 rows × 1767 columns</p>\n",
       "</div>"
      ],
      "text/plain": [
       "     2007-09-24   2007-09-25   2007-09-26   2007-09-27   2007-10-01   \\\n",
       "1       0.001532     0.001305    -0.000212    -0.000638     0.001709   \n",
       "2       0.000219    -0.001414     0.001168    -0.000851     0.001387   \n",
       "3       0.001202    -0.000436    -0.000425    -0.000213     0.000105   \n",
       "4      -0.003172    -0.000109    -0.001275    -0.001812    -0.003950   \n",
       "5      -0.001206     0.001198    -0.005651    -0.001174    -0.000749   \n",
       "..           ...          ...          ...          ...          ...   \n",
       "356    -0.000217     0.000000     0.000321     0.000081    -0.000537   \n",
       "357     0.000000     0.000000     0.000748     0.000000     0.001073   \n",
       "358     0.000542     0.001501    -0.001711    -0.000857     0.000107   \n",
       "359     0.000000    -0.001608     0.000321     0.000750    -0.000054   \n",
       "360     0.001300     0.000322     0.000535     0.000321     0.000054   \n",
       "\n",
       "     2007-10-02   2007-10-03   2007-10-05   2007-10-08   2007-10-09   ...  \\\n",
       "1      -0.001386     0.003368    -0.000855     0.001061     0.000725  ...   \n",
       "2      -0.002778     0.000000    -0.000428    -0.000954    -0.003316  ...   \n",
       "3      -0.002904    -0.003586     0.000000     0.004235    -0.001766  ...   \n",
       "4      -0.002460     0.000108    -0.001499    -0.001480    -0.000624  ...   \n",
       "5       0.000108     0.000545    -0.000965    -0.000106    -0.000833  ...   \n",
       "..           ...          ...          ...          ...          ...  ...   \n",
       "356    -0.000048     0.000054     0.000107    -0.000524    -0.000313  ...   \n",
       "357    -0.000169    -0.000008    -0.000429    -0.001028    -0.000731  ...   \n",
       "358     0.000326    -0.000101    -0.000751    -0.000126    -0.000941  ...   \n",
       "359    -0.000326    -0.000119     0.001180     0.000000    -0.000209  ...   \n",
       "360     0.000326    -0.000097     0.000214     0.000210    -0.000105  ...   \n",
       "\n",
       "     2018-10-18   2018-10-19   2018-10-22   2018-10-23   2018-10-24   \\\n",
       "1      -0.002422    -0.004804    -0.001245    -0.006587     0.002360   \n",
       "2       0.001599    -0.003519     0.000018     0.004361    -0.000991   \n",
       "3      -0.003024     0.002017    -0.000701     0.001726    -0.006810   \n",
       "4       0.000974     0.001521     0.001978    -0.002024    -0.001811   \n",
       "5       0.001312    -0.002860    -0.000386     0.004106     0.000377   \n",
       "..           ...          ...          ...          ...          ...   \n",
       "356     0.000292     0.001213     0.000010     0.000372     0.001849   \n",
       "357     0.000248     0.001163     0.000396     0.000152     0.001257   \n",
       "358     0.000417    -0.000017     0.000468    -0.000536    -0.003164   \n",
       "359     0.000859     0.000917     0.000049     0.000152    -0.002270   \n",
       "360    -0.001465     0.000642     0.001043    -0.001750    -0.000579   \n",
       "\n",
       "     2018-10-25   2018-10-26   2018-10-29   2018-10-30   2018-10-31   \n",
       "1      -0.000743    -0.000822     0.001258    -0.003093     0.000255  \n",
       "2       0.001916    -0.008799    -0.006414     0.008020     0.002273  \n",
       "3       0.002298    -0.011070    -0.001790     0.011911     0.003934  \n",
       "4      -0.002861    -0.006713     0.003295    -0.005264    -0.004077  \n",
       "5      -0.000270     0.007621    -0.006126    -0.001543     0.001239  \n",
       "..           ...          ...          ...          ...          ...  \n",
       "356    -0.001909    -0.002429     0.002268     0.001669    -0.000768  \n",
       "357     0.000431     0.000849    -0.001612     0.000455     0.000068  \n",
       "358     0.000000     0.001604    -0.004490     0.002020     0.000006  \n",
       "359    -0.000101     0.000611     0.001853     0.002032    -0.000704  \n",
       "360     0.001500    -0.001248    -0.001800    -0.003064     0.001568  \n",
       "\n",
       "[360 rows x 1767 columns]"
      ]
     },
     "execution_count": 54,
     "metadata": {},
     "output_type": "execute_result"
    }
   ],
   "source": [
    "log_return = pd.DataFrame(Log_Return)\n",
    "log_return = log_return.dropna()\n",
    "log_return"
   ]
  },
  {
   "cell_type": "code",
   "execution_count": 55,
   "metadata": {
    "scrolled": false
   },
   "outputs": [
    {
     "data": {
      "text/html": [
       "<div>\n",
       "<style scoped>\n",
       "    .dataframe tbody tr th:only-of-type {\n",
       "        vertical-align: middle;\n",
       "    }\n",
       "\n",
       "    .dataframe tbody tr th {\n",
       "        vertical-align: top;\n",
       "    }\n",
       "\n",
       "    .dataframe thead th {\n",
       "        text-align: right;\n",
       "    }\n",
       "</style>\n",
       "<table border=\"1\" class=\"dataframe\">\n",
       "  <thead>\n",
       "    <tr style=\"text-align: right;\">\n",
       "      <th></th>\n",
       "      <th>1</th>\n",
       "      <th>2</th>\n",
       "      <th>3</th>\n",
       "      <th>4</th>\n",
       "      <th>5</th>\n",
       "      <th>6</th>\n",
       "      <th>7</th>\n",
       "      <th>8</th>\n",
       "      <th>9</th>\n",
       "      <th>10</th>\n",
       "      <th>...</th>\n",
       "      <th>351</th>\n",
       "      <th>352</th>\n",
       "      <th>353</th>\n",
       "      <th>354</th>\n",
       "      <th>355</th>\n",
       "      <th>356</th>\n",
       "      <th>357</th>\n",
       "      <th>358</th>\n",
       "      <th>359</th>\n",
       "      <th>360</th>\n",
       "    </tr>\n",
       "  </thead>\n",
       "  <tbody>\n",
       "    <tr>\n",
       "      <th>2007-09-24</th>\n",
       "      <td>0.001532</td>\n",
       "      <td>0.000219</td>\n",
       "      <td>0.001202</td>\n",
       "      <td>-0.003172</td>\n",
       "      <td>-0.001206</td>\n",
       "      <td>-0.000001</td>\n",
       "      <td>-0.001426</td>\n",
       "      <td>-0.001099</td>\n",
       "      <td>0.003841</td>\n",
       "      <td>0.000876</td>\n",
       "      <td>...</td>\n",
       "      <td>0.002066</td>\n",
       "      <td>0.000543</td>\n",
       "      <td>0.000434</td>\n",
       "      <td>0.000651</td>\n",
       "      <td>-0.000325</td>\n",
       "      <td>-0.000217</td>\n",
       "      <td>0.000000</td>\n",
       "      <td>0.000542</td>\n",
       "      <td>0.000000</td>\n",
       "      <td>0.001300</td>\n",
       "    </tr>\n",
       "    <tr>\n",
       "      <th>2007-09-25</th>\n",
       "      <td>0.001305</td>\n",
       "      <td>-0.001414</td>\n",
       "      <td>-0.000436</td>\n",
       "      <td>-0.000109</td>\n",
       "      <td>0.001198</td>\n",
       "      <td>0.000760</td>\n",
       "      <td>-0.001522</td>\n",
       "      <td>0.001197</td>\n",
       "      <td>-0.000544</td>\n",
       "      <td>-0.003707</td>\n",
       "      <td>...</td>\n",
       "      <td>0.000536</td>\n",
       "      <td>-0.000215</td>\n",
       "      <td>0.000000</td>\n",
       "      <td>-0.000429</td>\n",
       "      <td>0.000429</td>\n",
       "      <td>0.000000</td>\n",
       "      <td>0.000000</td>\n",
       "      <td>0.001501</td>\n",
       "      <td>-0.001608</td>\n",
       "      <td>0.000322</td>\n",
       "    </tr>\n",
       "    <tr>\n",
       "      <th>2007-09-26</th>\n",
       "      <td>-0.000212</td>\n",
       "      <td>0.001168</td>\n",
       "      <td>-0.000425</td>\n",
       "      <td>-0.001275</td>\n",
       "      <td>-0.005651</td>\n",
       "      <td>0.002349</td>\n",
       "      <td>-0.000107</td>\n",
       "      <td>0.000533</td>\n",
       "      <td>0.000533</td>\n",
       "      <td>-0.000960</td>\n",
       "      <td>...</td>\n",
       "      <td>0.000642</td>\n",
       "      <td>0.000127</td>\n",
       "      <td>0.000622</td>\n",
       "      <td>-0.000107</td>\n",
       "      <td>0.000000</td>\n",
       "      <td>0.000321</td>\n",
       "      <td>0.000748</td>\n",
       "      <td>-0.001711</td>\n",
       "      <td>0.000321</td>\n",
       "      <td>0.000535</td>\n",
       "    </tr>\n",
       "    <tr>\n",
       "      <th>2007-09-27</th>\n",
       "      <td>-0.000638</td>\n",
       "      <td>-0.000851</td>\n",
       "      <td>-0.000213</td>\n",
       "      <td>-0.001812</td>\n",
       "      <td>-0.001174</td>\n",
       "      <td>0.000320</td>\n",
       "      <td>0.001707</td>\n",
       "      <td>0.000320</td>\n",
       "      <td>0.000447</td>\n",
       "      <td>0.000192</td>\n",
       "      <td>...</td>\n",
       "      <td>0.000321</td>\n",
       "      <td>0.000000</td>\n",
       "      <td>0.000000</td>\n",
       "      <td>0.000214</td>\n",
       "      <td>-0.000509</td>\n",
       "      <td>0.000081</td>\n",
       "      <td>0.000000</td>\n",
       "      <td>-0.000857</td>\n",
       "      <td>0.000750</td>\n",
       "      <td>0.000321</td>\n",
       "    </tr>\n",
       "    <tr>\n",
       "      <th>2007-10-01</th>\n",
       "      <td>0.001709</td>\n",
       "      <td>0.001387</td>\n",
       "      <td>0.000105</td>\n",
       "      <td>-0.003950</td>\n",
       "      <td>-0.000749</td>\n",
       "      <td>-0.000107</td>\n",
       "      <td>0.002352</td>\n",
       "      <td>0.001601</td>\n",
       "      <td>0.000959</td>\n",
       "      <td>0.002139</td>\n",
       "      <td>...</td>\n",
       "      <td>0.000107</td>\n",
       "      <td>0.000107</td>\n",
       "      <td>-0.000643</td>\n",
       "      <td>-0.001073</td>\n",
       "      <td>0.000751</td>\n",
       "      <td>-0.000537</td>\n",
       "      <td>0.001073</td>\n",
       "      <td>0.000107</td>\n",
       "      <td>-0.000054</td>\n",
       "      <td>0.000054</td>\n",
       "    </tr>\n",
       "    <tr>\n",
       "      <th>...</th>\n",
       "      <td>...</td>\n",
       "      <td>...</td>\n",
       "      <td>...</td>\n",
       "      <td>...</td>\n",
       "      <td>...</td>\n",
       "      <td>...</td>\n",
       "      <td>...</td>\n",
       "      <td>...</td>\n",
       "      <td>...</td>\n",
       "      <td>...</td>\n",
       "      <td>...</td>\n",
       "      <td>...</td>\n",
       "      <td>...</td>\n",
       "      <td>...</td>\n",
       "      <td>...</td>\n",
       "      <td>...</td>\n",
       "      <td>...</td>\n",
       "      <td>...</td>\n",
       "      <td>...</td>\n",
       "      <td>...</td>\n",
       "      <td>...</td>\n",
       "    </tr>\n",
       "    <tr>\n",
       "      <th>2018-10-25</th>\n",
       "      <td>-0.000743</td>\n",
       "      <td>0.001916</td>\n",
       "      <td>0.002298</td>\n",
       "      <td>-0.002861</td>\n",
       "      <td>-0.000270</td>\n",
       "      <td>0.002999</td>\n",
       "      <td>-0.001657</td>\n",
       "      <td>-0.002493</td>\n",
       "      <td>-0.001825</td>\n",
       "      <td>-0.000303</td>\n",
       "      <td>...</td>\n",
       "      <td>0.000112</td>\n",
       "      <td>-0.002087</td>\n",
       "      <td>0.000039</td>\n",
       "      <td>0.000470</td>\n",
       "      <td>0.000755</td>\n",
       "      <td>-0.001909</td>\n",
       "      <td>0.000431</td>\n",
       "      <td>0.000000</td>\n",
       "      <td>-0.000101</td>\n",
       "      <td>0.001500</td>\n",
       "    </tr>\n",
       "    <tr>\n",
       "      <th>2018-10-26</th>\n",
       "      <td>-0.000822</td>\n",
       "      <td>-0.008799</td>\n",
       "      <td>-0.011070</td>\n",
       "      <td>-0.006713</td>\n",
       "      <td>0.007621</td>\n",
       "      <td>0.008448</td>\n",
       "      <td>0.003623</td>\n",
       "      <td>0.003847</td>\n",
       "      <td>-0.002870</td>\n",
       "      <td>0.001963</td>\n",
       "      <td>...</td>\n",
       "      <td>-0.000725</td>\n",
       "      <td>0.001242</td>\n",
       "      <td>0.002736</td>\n",
       "      <td>-0.002657</td>\n",
       "      <td>-0.000067</td>\n",
       "      <td>-0.002429</td>\n",
       "      <td>0.000849</td>\n",
       "      <td>0.001604</td>\n",
       "      <td>0.000611</td>\n",
       "      <td>-0.001248</td>\n",
       "    </tr>\n",
       "    <tr>\n",
       "      <th>2018-10-29</th>\n",
       "      <td>0.001258</td>\n",
       "      <td>-0.006414</td>\n",
       "      <td>-0.001790</td>\n",
       "      <td>0.003295</td>\n",
       "      <td>-0.006126</td>\n",
       "      <td>0.000851</td>\n",
       "      <td>0.001348</td>\n",
       "      <td>-0.000452</td>\n",
       "      <td>0.001378</td>\n",
       "      <td>-0.004581</td>\n",
       "      <td>...</td>\n",
       "      <td>-0.003077</td>\n",
       "      <td>-0.000390</td>\n",
       "      <td>0.003722</td>\n",
       "      <td>0.002655</td>\n",
       "      <td>-0.000558</td>\n",
       "      <td>0.002268</td>\n",
       "      <td>-0.001612</td>\n",
       "      <td>-0.004490</td>\n",
       "      <td>0.001853</td>\n",
       "      <td>-0.001800</td>\n",
       "    </tr>\n",
       "    <tr>\n",
       "      <th>2018-10-30</th>\n",
       "      <td>-0.003093</td>\n",
       "      <td>0.008020</td>\n",
       "      <td>0.011911</td>\n",
       "      <td>-0.005264</td>\n",
       "      <td>-0.001543</td>\n",
       "      <td>-0.007323</td>\n",
       "      <td>-0.003112</td>\n",
       "      <td>0.006198</td>\n",
       "      <td>-0.000398</td>\n",
       "      <td>-0.001071</td>\n",
       "      <td>...</td>\n",
       "      <td>-0.000846</td>\n",
       "      <td>-0.001672</td>\n",
       "      <td>-0.001850</td>\n",
       "      <td>0.000200</td>\n",
       "      <td>0.001260</td>\n",
       "      <td>0.001669</td>\n",
       "      <td>0.000455</td>\n",
       "      <td>0.002020</td>\n",
       "      <td>0.002032</td>\n",
       "      <td>-0.003064</td>\n",
       "    </tr>\n",
       "    <tr>\n",
       "      <th>2018-10-31</th>\n",
       "      <td>0.000255</td>\n",
       "      <td>0.002273</td>\n",
       "      <td>0.003934</td>\n",
       "      <td>-0.004077</td>\n",
       "      <td>0.001239</td>\n",
       "      <td>0.001768</td>\n",
       "      <td>-0.001877</td>\n",
       "      <td>0.004423</td>\n",
       "      <td>0.002968</td>\n",
       "      <td>-0.001008</td>\n",
       "      <td>...</td>\n",
       "      <td>0.000283</td>\n",
       "      <td>-0.002661</td>\n",
       "      <td>0.000074</td>\n",
       "      <td>0.001033</td>\n",
       "      <td>0.000140</td>\n",
       "      <td>-0.000768</td>\n",
       "      <td>0.000068</td>\n",
       "      <td>0.000006</td>\n",
       "      <td>-0.000704</td>\n",
       "      <td>0.001568</td>\n",
       "    </tr>\n",
       "  </tbody>\n",
       "</table>\n",
       "<p>1767 rows × 360 columns</p>\n",
       "</div>"
      ],
      "text/plain": [
       "                  1         2         3         4         5         6    \\\n",
       "2007-09-24   0.001532  0.000219  0.001202 -0.003172 -0.001206 -0.000001   \n",
       "2007-09-25   0.001305 -0.001414 -0.000436 -0.000109  0.001198  0.000760   \n",
       "2007-09-26  -0.000212  0.001168 -0.000425 -0.001275 -0.005651  0.002349   \n",
       "2007-09-27  -0.000638 -0.000851 -0.000213 -0.001812 -0.001174  0.000320   \n",
       "2007-10-01   0.001709  0.001387  0.000105 -0.003950 -0.000749 -0.000107   \n",
       "...               ...       ...       ...       ...       ...       ...   \n",
       "2018-10-25  -0.000743  0.001916  0.002298 -0.002861 -0.000270  0.002999   \n",
       "2018-10-26  -0.000822 -0.008799 -0.011070 -0.006713  0.007621  0.008448   \n",
       "2018-10-29   0.001258 -0.006414 -0.001790  0.003295 -0.006126  0.000851   \n",
       "2018-10-30  -0.003093  0.008020  0.011911 -0.005264 -0.001543 -0.007323   \n",
       "2018-10-31   0.000255  0.002273  0.003934 -0.004077  0.001239  0.001768   \n",
       "\n",
       "                  7         8         9         10   ...       351       352  \\\n",
       "2007-09-24  -0.001426 -0.001099  0.003841  0.000876  ...  0.002066  0.000543   \n",
       "2007-09-25  -0.001522  0.001197 -0.000544 -0.003707  ...  0.000536 -0.000215   \n",
       "2007-09-26  -0.000107  0.000533  0.000533 -0.000960  ...  0.000642  0.000127   \n",
       "2007-09-27   0.001707  0.000320  0.000447  0.000192  ...  0.000321  0.000000   \n",
       "2007-10-01   0.002352  0.001601  0.000959  0.002139  ...  0.000107  0.000107   \n",
       "...               ...       ...       ...       ...  ...       ...       ...   \n",
       "2018-10-25  -0.001657 -0.002493 -0.001825 -0.000303  ...  0.000112 -0.002087   \n",
       "2018-10-26   0.003623  0.003847 -0.002870  0.001963  ... -0.000725  0.001242   \n",
       "2018-10-29   0.001348 -0.000452  0.001378 -0.004581  ... -0.003077 -0.000390   \n",
       "2018-10-30  -0.003112  0.006198 -0.000398 -0.001071  ... -0.000846 -0.001672   \n",
       "2018-10-31  -0.001877  0.004423  0.002968 -0.001008  ...  0.000283 -0.002661   \n",
       "\n",
       "                  353       354       355       356       357       358  \\\n",
       "2007-09-24   0.000434  0.000651 -0.000325 -0.000217  0.000000  0.000542   \n",
       "2007-09-25   0.000000 -0.000429  0.000429  0.000000  0.000000  0.001501   \n",
       "2007-09-26   0.000622 -0.000107  0.000000  0.000321  0.000748 -0.001711   \n",
       "2007-09-27   0.000000  0.000214 -0.000509  0.000081  0.000000 -0.000857   \n",
       "2007-10-01  -0.000643 -0.001073  0.000751 -0.000537  0.001073  0.000107   \n",
       "...               ...       ...       ...       ...       ...       ...   \n",
       "2018-10-25   0.000039  0.000470  0.000755 -0.001909  0.000431  0.000000   \n",
       "2018-10-26   0.002736 -0.002657 -0.000067 -0.002429  0.000849  0.001604   \n",
       "2018-10-29   0.003722  0.002655 -0.000558  0.002268 -0.001612 -0.004490   \n",
       "2018-10-30  -0.001850  0.000200  0.001260  0.001669  0.000455  0.002020   \n",
       "2018-10-31   0.000074  0.001033  0.000140 -0.000768  0.000068  0.000006   \n",
       "\n",
       "                  359       360  \n",
       "2007-09-24   0.000000  0.001300  \n",
       "2007-09-25  -0.001608  0.000322  \n",
       "2007-09-26   0.000321  0.000535  \n",
       "2007-09-27   0.000750  0.000321  \n",
       "2007-10-01  -0.000054  0.000054  \n",
       "...               ...       ...  \n",
       "2018-10-25  -0.000101  0.001500  \n",
       "2018-10-26   0.000611 -0.001248  \n",
       "2018-10-29   0.001853 -0.001800  \n",
       "2018-10-30   0.002032 -0.003064  \n",
       "2018-10-31  -0.000704  0.001568  \n",
       "\n",
       "[1767 rows x 360 columns]"
      ]
     },
     "execution_count": 55,
     "metadata": {},
     "output_type": "execute_result"
    }
   ],
   "source": [
    "test = log_return\n",
    "test = test.T\n",
    "test"
   ]
  },
  {
   "cell_type": "code",
   "execution_count": 56,
   "metadata": {
    "scrolled": false
   },
   "outputs": [],
   "source": [
    "# convert to array\n",
    "df_train = np.array(test).reshape(test.shape[0],test.shape[1],1)\n",
    "df_train = df_train.astype(object)"
   ]
  },
  {
   "cell_type": "code",
   "execution_count": 57,
   "metadata": {
    "scrolled": true
   },
   "outputs": [],
   "source": [
    "dba_km = TimeSeriesKMeans(n_clusters=2,\n",
    "                          n_init=2,\n",
    "                          metric=\"dtw\",\n",
    "                          random_state=666)\n"
   ]
  },
  {
   "cell_type": "code",
   "execution_count": 58,
   "metadata": {},
   "outputs": [],
   "source": [
    "y_pred = dba_km.fit_predict(df_train)\n",
    "labels = dict(zip(test.index, y_pred))"
   ]
  },
  {
   "cell_type": "code",
   "execution_count": 59,
   "metadata": {
    "scrolled": true
   },
   "outputs": [
    {
     "data": {
      "image/png": "[encoded data removed]",
      "text/plain": [
       "<Figure size 720x360 with 2 Axes>"
      ]
     },
     "metadata": {
      "needs_background": "light"
     },
     "output_type": "display_data"
    }
   ],
   "source": [
    "plt.figure(figsize=(10, 5))\n",
    "for yi in range(2):\n",
    "    plt.subplot(1, 2, yi + 1)\n",
    "    for xx in df_train[y_pred == yi]:\n",
    "        plt.plot(xx.ravel(), \"k-\", alpha=.5)\n",
    "    plt.plot(dba_km.cluster_centers_[yi].ravel(), \"r-\")\n",
    "    plt.xlim(0, 360)\n",
    "    plt.ylim(-0.1, 0.1)\n",
    "    plt.text(0.55, 0.85,'Cluster %d' % (yi + 1),\n",
    "             transform=plt.gca().transAxes)\n",
    "    plt.savefig(\"/Users/luzhang/Desktop/wrap up/AMZN_regime.pdf\", format = \"pdf\")"
   ]
  },
  {
   "cell_type": "code",
   "execution_count": 60,
   "metadata": {},
   "outputs": [],
   "source": [
    "data_labels = labels.items()\n",
    "data_list = list(data_labels)\n",
    "\n",
    "df_labels = pd.DataFrame(data_list)\n",
    "df_labels.columns=['datetime','regime']\n",
    "df_labels = df_labels.set_index('datetime')"
   ]
  },
  {
   "cell_type": "code",
   "execution_count": 61,
   "metadata": {},
   "outputs": [],
   "source": [
    "df_labels.index = df_labels.index.str.rstrip()"
   ]
  },
  {
   "cell_type": "code",
   "execution_count": 62,
   "metadata": {},
   "outputs": [],
   "source": [
    "df_merged = pd.read_csv(\"/Users/luzhang/Documents/GitHub/WrappingUp_Exploring_Intraday_Momentum_2rd_try/Data/AMZN_Returns_updates.csv\")"
   ]
  },
  {
   "cell_type": "code",
   "execution_count": 63,
   "metadata": {},
   "outputs": [],
   "source": [
    "df_merged = df_merged.set_index(\"datetime\")"
   ]
  },
  {
   "cell_type": "code",
   "execution_count": 64,
   "metadata": {},
   "outputs": [
    {
     "data": {
      "text/plain": [
       "Index(['2007-05-01', '2007-05-02', '2007-05-03', '2007-05-04', '2007-05-07',\n",
       "       '2007-05-08', '2007-05-09', '2007-05-10', '2007-05-14', '2007-05-15',\n",
       "       ...\n",
       "       '2018-10-19', '2018-10-22', '2018-10-23', '2018-10-24', '2018-10-25',\n",
       "       '2018-10-26', '2018-10-29', '2018-10-30', '2018-10-31', '2018-11-01'],\n",
       "      dtype='object', name='datetime', length=2858)"
      ]
     },
     "execution_count": 64,
     "metadata": {},
     "output_type": "execute_result"
    }
   ],
   "source": [
    "df_merged.index"
   ]
  },
  {
   "cell_type": "code",
   "execution_count": 65,
   "metadata": {},
   "outputs": [],
   "source": [
    "new_data = pd.merge(df_merged, df_labels, on=\"datetime\", how = \"inner\")"
   ]
  },
  {
   "cell_type": "code",
   "execution_count": 66,
   "metadata": {
    "scrolled": true
   },
   "outputs": [
    {
     "data": {
      "text/html": [
       "<div>\n",
       "<style scoped>\n",
       "    .dataframe tbody tr th:only-of-type {\n",
       "        vertical-align: middle;\n",
       "    }\n",
       "\n",
       "    .dataframe tbody tr th {\n",
       "        vertical-align: top;\n",
       "    }\n",
       "\n",
       "    .dataframe thead th {\n",
       "        text-align: right;\n",
       "    }\n",
       "</style>\n",
       "<table border=\"1\" class=\"dataframe\">\n",
       "  <thead>\n",
       "    <tr style=\"text-align: right;\">\n",
       "      <th></th>\n",
       "      <th>R_LH</th>\n",
       "      <th>R_LH0</th>\n",
       "      <th>R_ROD</th>\n",
       "      <th>R_ON</th>\n",
       "      <th>R_FH</th>\n",
       "      <th>R_ONFH</th>\n",
       "      <th>R_M</th>\n",
       "      <th>R_SLH</th>\n",
       "      <th>regime</th>\n",
       "    </tr>\n",
       "    <tr>\n",
       "      <th>datetime</th>\n",
       "      <th></th>\n",
       "      <th></th>\n",
       "      <th></th>\n",
       "      <th></th>\n",
       "      <th></th>\n",
       "      <th></th>\n",
       "      <th></th>\n",
       "      <th></th>\n",
       "      <th></th>\n",
       "    </tr>\n",
       "  </thead>\n",
       "  <tbody>\n",
       "    <tr>\n",
       "      <th>2007-09-24</th>\n",
       "      <td>0.002599</td>\n",
       "      <td>-0.002731</td>\n",
       "      <td>0.011501</td>\n",
       "      <td>0.000000</td>\n",
       "      <td>0.000110</td>\n",
       "      <td>0.000110</td>\n",
       "      <td>0.008323</td>\n",
       "      <td>0.003041</td>\n",
       "      <td>1</td>\n",
       "    </tr>\n",
       "    <tr>\n",
       "      <th>2007-09-25</th>\n",
       "      <td>0.001717</td>\n",
       "      <td>0.002599</td>\n",
       "      <td>0.007020</td>\n",
       "      <td>-0.006480</td>\n",
       "      <td>-0.006990</td>\n",
       "      <td>-0.013425</td>\n",
       "      <td>0.020066</td>\n",
       "      <td>0.000644</td>\n",
       "      <td>1</td>\n",
       "    </tr>\n",
       "    <tr>\n",
       "      <th>2007-09-26</th>\n",
       "      <td>-0.001925</td>\n",
       "      <td>0.001717</td>\n",
       "      <td>0.001284</td>\n",
       "      <td>0.007815</td>\n",
       "      <td>-0.012005</td>\n",
       "      <td>-0.004284</td>\n",
       "      <td>0.003226</td>\n",
       "      <td>0.002358</td>\n",
       "      <td>1</td>\n",
       "    </tr>\n",
       "    <tr>\n",
       "      <th>2007-09-27</th>\n",
       "      <td>-0.000535</td>\n",
       "      <td>-0.001925</td>\n",
       "      <td>0.000964</td>\n",
       "      <td>0.007821</td>\n",
       "      <td>-0.004358</td>\n",
       "      <td>0.003428</td>\n",
       "      <td>-0.001816</td>\n",
       "      <td>-0.000641</td>\n",
       "      <td>1</td>\n",
       "    </tr>\n",
       "    <tr>\n",
       "      <th>2007-10-01</th>\n",
       "      <td>0.001394</td>\n",
       "      <td>0.000000</td>\n",
       "      <td>0.000966</td>\n",
       "      <td>0.002791</td>\n",
       "      <td>-0.002569</td>\n",
       "      <td>0.000215</td>\n",
       "      <td>0.000859</td>\n",
       "      <td>-0.000107</td>\n",
       "      <td>1</td>\n",
       "    </tr>\n",
       "    <tr>\n",
       "      <th>...</th>\n",
       "      <td>...</td>\n",
       "      <td>...</td>\n",
       "      <td>...</td>\n",
       "      <td>...</td>\n",
       "      <td>...</td>\n",
       "      <td>...</td>\n",
       "      <td>...</td>\n",
       "      <td>...</td>\n",
       "      <td>...</td>\n",
       "    </tr>\n",
       "    <tr>\n",
       "      <th>2018-10-25</th>\n",
       "      <td>-0.005102</td>\n",
       "      <td>-0.019722</td>\n",
       "      <td>0.077041</td>\n",
       "      <td>0.023879</td>\n",
       "      <td>0.011923</td>\n",
       "      <td>0.036086</td>\n",
       "      <td>0.039182</td>\n",
       "      <td>0.000333</td>\n",
       "      <td>1</td>\n",
       "    </tr>\n",
       "    <tr>\n",
       "      <th>2018-10-26</th>\n",
       "      <td>0.003023</td>\n",
       "      <td>-0.005102</td>\n",
       "      <td>-0.081181</td>\n",
       "      <td>-0.072415</td>\n",
       "      <td>0.003014</td>\n",
       "      <td>-0.069619</td>\n",
       "      <td>-0.012246</td>\n",
       "      <td>-0.000184</td>\n",
       "      <td>0</td>\n",
       "    </tr>\n",
       "    <tr>\n",
       "      <th>2018-10-29</th>\n",
       "      <td>0.013736</td>\n",
       "      <td>0.003023</td>\n",
       "      <td>-0.073938</td>\n",
       "      <td>0.013759</td>\n",
       "      <td>-0.015342</td>\n",
       "      <td>-0.001794</td>\n",
       "      <td>-0.064634</td>\n",
       "      <td>-0.008168</td>\n",
       "      <td>0</td>\n",
       "    </tr>\n",
       "    <tr>\n",
       "      <th>2018-10-30</th>\n",
       "      <td>0.006944</td>\n",
       "      <td>0.013736</td>\n",
       "      <td>-0.012464</td>\n",
       "      <td>-0.034068</td>\n",
       "      <td>0.036207</td>\n",
       "      <td>0.000905</td>\n",
       "      <td>-0.016812</td>\n",
       "      <td>0.003514</td>\n",
       "      <td>0</td>\n",
       "    </tr>\n",
       "    <tr>\n",
       "      <th>2018-10-31</th>\n",
       "      <td>-0.005479</td>\n",
       "      <td>0.006944</td>\n",
       "      <td>0.050994</td>\n",
       "      <td>0.025575</td>\n",
       "      <td>0.017118</td>\n",
       "      <td>0.043131</td>\n",
       "      <td>0.008170</td>\n",
       "      <td>-0.000627</td>\n",
       "      <td>1</td>\n",
       "    </tr>\n",
       "  </tbody>\n",
       "</table>\n",
       "<p>1767 rows × 9 columns</p>\n",
       "</div>"
      ],
      "text/plain": [
       "                R_LH     R_LH0     R_ROD      R_ON      R_FH    R_ONFH  \\\n",
       "datetime                                                                 \n",
       "2007-09-24  0.002599 -0.002731  0.011501  0.000000  0.000110  0.000110   \n",
       "2007-09-25  0.001717  0.002599  0.007020 -0.006480 -0.006990 -0.013425   \n",
       "2007-09-26 -0.001925  0.001717  0.001284  0.007815 -0.012005 -0.004284   \n",
       "2007-09-27 -0.000535 -0.001925  0.000964  0.007821 -0.004358  0.003428   \n",
       "2007-10-01  0.001394  0.000000  0.000966  0.002791 -0.002569  0.000215   \n",
       "...              ...       ...       ...       ...       ...       ...   \n",
       "2018-10-25 -0.005102 -0.019722  0.077041  0.023879  0.011923  0.036086   \n",
       "2018-10-26  0.003023 -0.005102 -0.081181 -0.072415  0.003014 -0.069619   \n",
       "2018-10-29  0.013736  0.003023 -0.073938  0.013759 -0.015342 -0.001794   \n",
       "2018-10-30  0.006944  0.013736 -0.012464 -0.034068  0.036207  0.000905   \n",
       "2018-10-31 -0.005479  0.006944  0.050994  0.025575  0.017118  0.043131   \n",
       "\n",
       "                 R_M     R_SLH  regime  \n",
       "datetime                                \n",
       "2007-09-24  0.008323  0.003041       1  \n",
       "2007-09-25  0.020066  0.000644       1  \n",
       "2007-09-26  0.003226  0.002358       1  \n",
       "2007-09-27 -0.001816 -0.000641       1  \n",
       "2007-10-01  0.000859 -0.000107       1  \n",
       "...              ...       ...     ...  \n",
       "2018-10-25  0.039182  0.000333       1  \n",
       "2018-10-26 -0.012246 -0.000184       0  \n",
       "2018-10-29 -0.064634 -0.008168       0  \n",
       "2018-10-30 -0.016812  0.003514       0  \n",
       "2018-10-31  0.008170 -0.000627       1  \n",
       "\n",
       "[1767 rows x 9 columns]"
      ]
     },
     "execution_count": 66,
     "metadata": {},
     "output_type": "execute_result"
    }
   ],
   "source": [
    "new_data"
   ]
  },
  {
   "cell_type": "code",
   "execution_count": 67,
   "metadata": {},
   "outputs": [],
   "source": [
    "new_data.to_csv(\"/Users/luzhang/Documents/GitHub/WrappingUp_Exploring_Intraday_Momentum_2rd_try/Data/AMZN_Returns_with_regime.csv\", index = True)"
   ]
  },
  {
   "cell_type": "code",
   "execution_count": null,
   "metadata": {},
   "outputs": [],
   "source": []
  }
 ],
 "metadata": {
  "kernelspec": {
   "display_name": "Python 3 (ipykernel)",
   "language": "python",
   "name": "python3"
  },
  "language_info": {
   "codemirror_mode": {
    "name": "ipython",
    "version": 3
   },
   "file_extension": ".py",
   "mimetype": "text/x-python",
   "name": "python",
   "nbconvert_exporter": "python",
   "pygments_lexer": "ipython3",
   "version": "3.8.3"
  }
 },
 "nbformat": 4,
 "nbformat_minor": 4
}
